{
 "cells": [
  {
   "cell_type": "markdown",
   "metadata": {
    "id": "D7E112661B184AE2B6AA9FF57C6E27B7",
    "jupyter": {},
    "mdEditEnable": false,
    "notebookId": "62e22ba6d9ad8bab8144ca38",
    "slideshow": {
     "slide_type": "slide"
    },
    "tags": []
   },
   "source": [
    "# 如何给灯光数据定标？"
   ]
  },
  {
   "cell_type": "markdown",
   "metadata": {
    "id": "14BDA092F97D49B3BEC1752045A05267",
    "jupyter": {},
    "mdEditEnable": false,
    "notebookId": "62e22ba6d9ad8bab8144ca38",
    "slideshow": {
     "slide_type": "slide"
    },
    "tags": []
   },
   "source": [
    "🐋 友情提醒：\n",
    "1. 本项目数据较大，运行前请挂载 work 目录（步骤图[在此](https://www.heywhale.com/org/meteoda/task/62ef6c35c9b80359bec78f2a/forum/62ef7f2aa4bc7520c7ccd0e8)）。\n",
    "2. 编程界面里的超链接建议在新标签页打开。"
   ]
  },
  {
   "cell_type": "markdown",
   "metadata": {
    "id": "B13F7AF9598A47EB83E6BB2761DD9010",
    "jupyter": {},
    "mdEditEnable": false,
    "notebookId": "62e22ba6d9ad8bab8144ca38",
    "slideshow": {
     "slide_type": "slide"
    },
    "tags": []
   },
   "source": [
    "> 卫星数据不是完美的，掌握一定的预处理技巧，可以让我们更好地进行数据分析。\n",
    "\n",
    "在过去几十年里，城市不断发展，面积不断扩张。如何清晰直观地展示城市发展的轨迹？——夜间灯光数据可以来帮忙。\n",
    "\n",
    "当夜幕降临，**卫星能捕捉到我们地球表面的城市灯光，而夜间灯光能反映人类活动的强度**。研究表明，夜间灯光与能源消费、人口密度、GDP 和二氧化碳排放等强相关，因此我们可以**借助卫星数据来刻画城市发展过程**。\n",
    "\n",
    "常用的夜间灯光数据是由传感器 DMSP-OLS 采集的。然而，由于该传感器自身的局限，卫星数据在星际、年际缺乏连续性，不能直接进行对比。那么，当我们需要制作上海城市扩张GIF图时，该怎么做？\n",
    "\n",
    "本期 workshop 中，我们将学习如何通过交叉定标(cross calibration)提升 4 颗卫星数据的连续性，之后，基于定标的夜光数据，制作1992 年至 2013 年城市发展GIF图。\n",
    "\n",
    "**作业**中，你需要应用学习到的技能，对制作不同城市的 GIF 图（必做），以及对比不同的模型，提高定标效果（选做）。\n",
    "\n",
    "希望借由本次案例学习与作业练习，**帮助你初步了解如何使用 Python 实现卫星定标**这一重要预处理技能。"
   ]
  },
  {
   "cell_type": "markdown",
   "metadata": {
    "id": "F46AA8A8970E433781A8833D490DE024",
    "jupyter": {},
    "mdEditEnable": false,
    "notebookId": "62e22ba6d9ad8bab8144ca38",
    "slideshow": {
     "slide_type": "slide"
    },
    "tags": []
   },
   "source": [
    "## 背景介绍：关于卫星定标的小知识\n",
    "\n",
    "这里引用一些公开资料，方便非地理专业背景的同学理解什么是定标。\n",
    "\n",
    "来自地球观测卫星的数据越来越多地支撑着政府的报告、评估和决策以及重要的全球问题，如可持续发展目标，包括气候变化和土地退化。最终用户需要相信这些数据的来源和质量是可靠和准确的。[^1]\n",
    "\n",
    "在实际的观测过程中，受到气溶胶、云等大气问题、卫星系统影响，卫星捕捉到的信号与地面实际情况与差别，产生了观测偏差。\n",
    "\n",
    "因此，来自不同卫星的数据，或同一卫星在不同日期之间收集的数据，能够被无缝使用和准确比较，以便有效利用地球观测数据，保持数据档案的科学价值，并满足严格的监管或法律约束。\n",
    "\n",
    "定标就是把**卫星观测的数据定到标准值**，确保它们捕获的数据与物理标准一致。简单来说，相当于给卫星观测这杆“秤”加上准星。[^2]\n",
    "\n",
    "本案例中主要使用的定标方法为交叉定标[^3]，即当待标定的在轨卫星传感器与定标结果很好的在轨卫星传感器同时观测同一目标时，用标定结果很好的在轨卫星传感器来标定待标定的卫星传感器[^4]。\n",
    "\n",
    "[^1]: 澳大利亚联邦科学与工业研究组织《[卫星定标和检验](https://www.csiro.au/en/research/technology-space/astronomy-space/calval)》\n",
    "[^2]: 中国气象报《[【科普阅读】什么是卫星辐射定标？](http://politics.people.com.cn/n/2014/0823/c70731-25524624.html)》\n",
    "[^3]: 本案例所用数据源已经经过筛选、处理的产品，受大气问题影响较小，所以重点考虑卫星系统的偏差。\n",
    "[^4]: 百度名片《[交叉辐射定标](https://baike.baidu.com/item/%E4%BA%A4%E5%8F%89%E8%BE%90%E5%B0%84%E5%AE%9A%E6%A0%87/7486439)》"
   ]
  },
  {
   "cell_type": "markdown",
   "metadata": {
    "_id": "260CA36A54D2489C9B2A332D7AB3DDFF",
    "id": "61E41CC6C6854ACA96942CDB96FF7DC1",
    "jupyter": {},
    "mdEditEnable": false,
    "notebookId": "62e22ba6d9ad8bab8144ca38",
    "slideshow": {
     "slide_type": "slide"
    },
    "tags": []
   },
   "source": [
    "## 案例介绍：使用交叉定标，提升 DMSP-OLS 夜间灯光数据的连续性"
   ]
  },
  {
   "cell_type": "markdown",
   "metadata": {
    "id": "6AB096521A834AE88B2BCFC66366D2D2",
    "jupyter": {},
    "notebookId": "62e22ba6d9ad8bab8144ca38",
    "slideshow": {
     "slide_type": "slide"
    },
    "tags": []
   },
   "source": [
    "理想情况下，夜间灯光能够反映经济发展程度，也就是经济越发达，基础照明设施就越多，灯光就越亮。但实际情况是，由于DMSP-OLS[^1]本身缺乏星上定标设备，它的数据在星际、年际无法直接进行对比，导致原始数据的全球灯光总量并不是随着GDP的增加而增加。我们需要对数据进行校正，提升数据的连续性。\n",
    "\n",
    "我们采用《[A Stepwise Calibration of Global DMSP/OLS Stable Nighttime Light Data (1992–2013)](https://www.mdpi.com/2072-4292/9/6/637)》 这篇文章的交叉定标方法来校正数据[^2]（非常感谢作者Xuecao Li、Yuyu Zhou提出的宝贵方法）。本项目内容依据本文进行展开。建议你在运行本项目之前最好阅读该论文。\n",
    "\n",
    "![Image Name](./pic/rfq0ksao9n.png)\n",
    "\n",
    "[^1]: 美国国防气象卫星（Defense Meteorological Satellite Program, DMSP）搭载的业务型线扫描传感器（Operational Linescan System, OLS）最初主要为气象监测而设计，用于探测月光照射下的云，后来由于其独特的光电放大能力使其能在夜间探测到地表微弱的近红外辐射,因此,该传感器获取的夜间灯光影像被越来越多的用来研究人类活动（来自曹子阳, 吴志峰, 匡耀求, 黄宁生《[DMSP/OLS夜间灯光影像中国区域的校正及应用](http://www.dqxxkx.cn/CN/lexeme/showArticleByLexeme.do?articleID=36978)》）\n",
    "\n",
    "[^2]: 为什么我选择这篇论文来复现给大家学习？一是有别于传统的一个统一的校正函数，针对不同的卫星，它用了不同的校正函数，更灵活；二是不需要传统的、复杂筛选样本的过程，做法更便捷、高效，效果也不错，对新同学更好上手。\n"
   ]
  },
  {
   "cell_type": "markdown",
   "metadata": {
    "id": "B4ED8A33640648F6A3C2984B9DE093FC",
    "jupyter": {},
    "notebookId": "62e22ba6d9ad8bab8144ca38",
    "slideshow": {
     "slide_type": "slide"
    },
    "tags": []
   },
   "source": [
    "夜间灯光与人类的经济发展有密切的联系。全球的经济在过去几十年中持续发展，生产总值(GDP)不断增加，如**Figure 3**所示：\n",
    "\n",
    "![Image Name](./pic/rfq0jawxfl.png)\n",
    "\n",
    "*图片来源：[世界银行](https://data.worldbank.org/indicator/NY.GDP.MKTP.CD?end=2013&start=1992&view=chart)"
   ]
  },
  {
   "cell_type": "markdown",
   "metadata": {
    "id": "5FA0046A37CE4EA585971587F2B275CD",
    "jupyter": {},
    "notebookId": "62e22ba6d9ad8bab8144ca38",
    "slideshow": {
     "slide_type": "slide"
    },
    "tags": []
   },
   "source": [
    "##  方法概述"
   ]
  },
  {
   "cell_type": "markdown",
   "metadata": {
    "id": "055C7670203643558697B22514214F34",
    "jupyter": {},
    "notebookId": "62e22ba6d9ad8bab8144ca38",
    "slideshow": {
     "slide_type": "slide"
    },
    "tags": []
   },
   "source": [
    "全球DMSP/OLS的灯光亮度总和(Sum of NTL，SNTL)并没有像GDP那样持续增长，而是在星际和年际不连续，如**Figure 5**所示。卫星F10、F12和F14的灯光总量SNTL各自呈现上升趋势。然而，其余三颗卫星（F15、F16 和 F18）没有明显的上升趋势。\n",
    "\n",
    "该论文开发了一套逐步校正方案。该方案包括四个步骤： \n",
    "1. 系统校正F14； \n",
    "2. 分期校正F15； \n",
    "3. 校正F16；\n",
    "4. 校正F182010（F18卫星的2010年数据）。\n",
    "\n",
    "这种逐步校正能够分别改善每颗卫星的不连续问题。每个步骤将在以下小节中详细描述。\n",
    "\n",
    "![Image Name](./pic/rfq0lfd7yu.jpg)"
   ]
  },
  {
   "cell_type": "markdown",
   "metadata": {
    "id": "CBF8BA4C4B644F46919B8B1D6C78E7A1",
    "jupyter": {},
    "notebookId": "62e22ba6d9ad8bab8144ca38",
    "slideshow": {
     "slide_type": "slide"
    },
    "tags": []
   },
   "source": [
    "在学习、理解案例的过程中，希望你**重点关注一些问题**：\n",
    "\n",
    "- 定标时，选择哪一个图像作为参考图像？\n",
    "- 如何判断哪些年份、哪颗卫星的数据需要进行校正？是校正整颗卫星还是部分年份的数据？\n",
    "- 如何使用 Python 确定数据的地理格网(grid)？即：如何确定图的左上角、右下角"
   ]
  },
  {
   "cell_type": "markdown",
   "metadata": {
    "_id": "4F40538462B145CD98C8696549EAFFD8",
    "id": "44D91A366BA142018584C17E61982811",
    "jupyter": {},
    "mdEditEnable": false,
    "notebookId": "62e22ba6d9ad8bab8144ca38",
    "slideshow": {
     "slide_type": "slide"
    },
    "tags": []
   },
   "source": [
    "## 1. 预处理：准备数据"
   ]
  },
  {
   "cell_type": "code",
   "execution_count": null,
   "metadata": {
    "_id": "BC78BF29F48B4367809BCAC9A22EB413",
    "id": "91FAE591BE254C6E8584496DDF1120B6",
    "notebookId": "62e22ba6d9ad8bab8144ca38",
    "slideshow": {
     "slide_type": "slide"
    },
    "tags": []
   },
   "outputs": [],
   "source": [
    "# 安装完成后，欢迎点右上角Kernel-保存当前镜像，以便以后直接使用该自定义镜像\n",
    "!pip install retry pySmartDL -i https://pypi.douban.com/simple/ #从指定镜像下载安装工具包，镜像URL可自行修改"
   ]
  },
  {
   "cell_type": "code",
   "execution_count": 1,
   "metadata": {
    "_id": "F2319890F22842569F12BB8E5CBEB544",
    "collapsed": false,
    "id": "9A2F41971C1145D182AFD0EA055C151E",
    "jupyter": {
     "outputs_hidden": false
    },
    "notebookId": "62e22ba6d9ad8bab8144ca38",
    "slideshow": {
     "slide_type": "slide"
    },
    "tags": []
   },
   "outputs": [],
   "source": [
    "# 导入需要的拓展包\n",
    "from IPython.core.display import display, HTML\n",
    "import tarfile  \n",
    "import os\n",
    "import gzip  \n",
    "import shutil\n",
    "import glob\n",
    "from tqdm import tqdm\n",
    "import gc\n",
    "import gdal\n",
    "import numpy as np\n",
    "import matplotlib as mpl\n",
    "import matplotlib.pyplot as plt\n",
    "%matplotlib inline \n",
    "import pandas as pd\n",
    "from retry import retry\n",
    "import pandas as pd\n",
    "from PIL import Image\n",
    "import imageio\n",
    "import IPython\n",
    "from pySmartDL import SmartDL"
   ]
  },
  {
   "cell_type": "markdown",
   "metadata": {
    "_id": "1E0B78C64F2A4A80B8ADACDC2D45610D",
    "id": "FE52E7D8EFED4E1B901D859635F84668",
    "jupyter": {},
    "mdEditEnable": false,
    "notebookId": "62e22ba6d9ad8bab8144ca38",
    "slideshow": {
     "slide_type": "slide"
    },
    "tags": []
   },
   "source": [
    "### 1.1. 解压数据"
   ]
  },
  {
   "cell_type": "markdown",
   "metadata": {
    "_id": "0991AE9783CC478186A1F85E02A0A3A9",
    "id": "E4FEA19DE38D403684D221F446D9B749",
    "jupyter": {},
    "mdEditEnable": false,
    "notebookId": "62e22ba6d9ad8bab8144ca38",
    "slideshow": {
     "slide_type": "slide"
    },
    "tags": []
   },
   "source": [
    "有6颗卫星(F10、F12、F14、F15、F16、F18)搭载了DMSP-OLS传感器，它们数据的时间跨度是1992至2013年。如 Figure 1 所示，不同年份有不同卫星采集的数据，有的年份有多颗卫星的数据。我们可以从[NOAA网站](https://ngdc.noaa.gov/eog/dmsp/downloadV4composites.html)下载这些数据。为了节约时间，我们已经提前下载好了这些数据。我们需要做的就是解压这些数据，就能得到全球的灯光图像。\n",
    "\n",
    "\n",
    "![Image Name](./pic/rfq05jk3yd.png)\n",
    "\n"
   ]
  },
  {
   "cell_type": "code",
   "execution_count": 2,
   "metadata": {
    "_id": "A0DA16C6332442D68DAA13BD0E51E2D9",
    "collapsed": false,
    "id": "BF7BFD2FAA514E509BE3D155BA7E3E68",
    "jupyter": {
     "outputs_hidden": false
    },
    "notebookId": "62e22ba6d9ad8bab8144ca38",
    "slideshow": {
     "slide_type": "slide"
    },
    "tags": []
   },
   "outputs": [],
   "source": [
    "# 定义函数：解压文件\n",
    "@retry()\n",
    "def gunzip_shutil(source_filepath, block_size=65536):\n",
    "    # 解压gz文件，提取tif图像\n",
    "    dest_filepath = source_filepath[:-3]\n",
    "    with gzip.open(source_filepath, 'rb') as s_file, \\\n",
    "            open(dest_filepath, 'wb') as d_file:\n",
    "        shutil.copyfileobj(s_file, d_file, block_size)"
   ]
  },
  {
   "cell_type": "code",
   "execution_count": null,
   "metadata": {
    "_id": "26936F49FE714D3B81BFB470DEDFC871",
    "collapsed": false,
    "id": "413E161988314EEDB35E1DBA5D7C26F2",
    "jupyter": {
     "outputs_hidden": false
    },
    "notebookId": "62e22ba6d9ad8bab8144ca38",
    "slideshow": {
     "slide_type": "slide"
    },
    "tags": []
   },
   "outputs": [],
   "source": [
    "# 本cell由于数据量较大所以运行耗时较长\n",
    "# 指定压缩文件gz的目录\n",
    "inpDir = \"dataset/\"\n",
    "# 获取所有压缩文件gz的文件名\n",
    "gzFiles = glob.glob(inpDir+\"*.gz\")\n",
    "gzFiles.sort()\n",
    "# 依次遍历原始压缩文件gz\n",
    "for gz in tqdm(gzFiles):\n",
    "    # 从压缩文件gz中提取出stable_lights.avg_vis文件，该文件是tif格式的图像\n",
    "    gunzip_shutil(gz)\n",
    "\n",
    "print('全部解压成功！')"
   ]
  },
  {
   "cell_type": "markdown",
   "metadata": {
    "_id": "90C452A055B74F818415FF70DDBB0D5D",
    "id": "B4C02272413B4DDD9B3518C356382DE8",
    "jupyter": {},
    "mdEditEnable": false,
    "notebookId": "62e22ba6d9ad8bab8144ca38",
    "slideshow": {
     "slide_type": "slide"
    },
    "tags": []
   },
   "source": [
    "### 1.2. 裁剪数据"
   ]
  },
  {
   "cell_type": "markdown",
   "metadata": {
    "_id": "5EAF95D108604D4D85067B42813471B7",
    "id": "16B2C5CE659B4A2787EACA87E2CE3968",
    "jupyter": {},
    "mdEditEnable": false,
    "notebookId": "62e22ba6d9ad8bab8144ca38",
    "slideshow": {
     "slide_type": "slide"
    },
    "tags": []
   },
   "source": [
    "为了能在短时间内高效完成 demo 案例的运行、学习，我们将范围缩小到以中国东部地区为中心的范围[^1]，因此我们需要将全球范围的数据进行裁剪。如 **Figure 2** 所示，该区域表示为黄框。其左上角位于第2433行，第34070列；其右下角位于第6971行，第28082列。\n",
    "\n",
    "![Image Name](./pic/rfq0guqg13.png)\n",
    "\n",
    "[^1]: 这样对算力的要求也更低。"
   ]
  },
  {
   "cell_type": "markdown",
   "metadata": {
    "_id": "936D5EE9731841E0958635E77681EAE3",
    "id": "73394DDE6547416381440690E2AE10A2",
    "jupyter": {},
    "mdEditEnable": false,
    "notebookId": "62e22ba6d9ad8bab8144ca38",
    "slideshow": {
     "slide_type": "slide"
    },
    "tags": []
   },
   "source": [
    "我们需要依次读取这些图像，并把相应的区域提取出来保存成新的tif文件。"
   ]
  },
  {
   "cell_type": "code",
   "execution_count": 3,
   "metadata": {
    "_id": "F1961300114A4438827063299B0D10B0",
    "collapsed": false,
    "id": "67B385C9175543C2A9303EE416ED3C37",
    "jupyter": {
     "outputs_hidden": false
    },
    "notebookId": "62e22ba6d9ad8bab8144ca38",
    "slideshow": {
     "slide_type": "slide"
    },
    "tags": []
   },
   "outputs": [],
   "source": [
    "# 定义函数：读取tif图像成numpy array\n",
    "@retry()\n",
    "def readTiff(filename:str):\n",
    "    ds = gdal.Open(filename)\n",
    "    image = ds.GetRasterBand(1).ReadAsArray()\n",
    "    return image,ds.GetProjection(),ds.GetGeoTransform()\n",
    "\n",
    "@retry()\n",
    "# 定义函数：根据坐标裁剪子区域\n",
    "def clipImg(image,proj,geotrans,upperLeftCoords,downRightCoords):\n",
    "    # 根据坐标提取子矩阵\n",
    "    r_upperLeft,c_upperLeft = upperLeftCoords\n",
    "    r_downRight,c_downRight = downRightCoords\n",
    "    subImage = image[r_upperLeft:r_downRight,c_upperLeft:c_downRight]\n",
    "    # 设置投影信息\n",
    "    subProj = proj\n",
    "    # 设置坐标\n",
    "    subGeotrans = list(geotrans)\n",
    "    #图像左上角的坐标为r_upperLeft，c_upperLeft。则该点的经纬度为：\n",
    "    xGeo = geotrans[0] + c_upperLeft * geotrans[1] + r_upperLeft * geotrans[2]\n",
    "    yGeo = geotrans[3] + c_upperLeft * geotrans[4] + r_upperLeft * geotrans[5]\n",
    "    # 左上角经度\n",
    "    subGeotrans[0] = xGeo\n",
    "    # 左上角纬度\n",
    "    subGeotrans[3] = yGeo\n",
    "    # 垂直空间分辨率(经度间隔)\n",
    "    subGeotrans[1] = subGeotrans[1]\n",
    "    # 水平空间分辨率(纬度间隔)\n",
    "    subGeotrans[5] = subGeotrans[5]\n",
    "    subGeotrans = tuple(subGeotrans)\n",
    "    # \n",
    "    return subImage,subProj,subGeotrans\n",
    "\n",
    "@retry()\n",
    "# 定义函数：保存到磁盘\n",
    "def outTiff(subArr,subProj,subGeotrans,outputFile):\n",
    "    # 创建driver\n",
    "    driver = gdal.GetDriverByName(\"GTiff\")\n",
    "    # 创建数据集\n",
    "    outdata = driver.Create(outputFile, subArr.shape[1], subArr.shape[0], 1, gdal.GDT_Float32)\n",
    "    # 把数组放进数据集\n",
    "    outdata.GetRasterBand(1).WriteArray(subArr)\n",
    "    # 设置投影信息和坐标\n",
    "    outdata.SetProjection(subProj) \n",
    "    outdata.SetGeoTransform(subGeotrans)\n",
    "    # \n",
    "    outdata.FlushCache()\n",
    "    outdata = None\n",
    "    driver=None\n",
    "    subArr=None\n",
    "    #print('outTiff: {0}'.format(outputFile))"
   ]
  },
  {
   "cell_type": "code",
   "execution_count": 4,
   "metadata": {
    "_id": "0180471101CC4CFD8BAC163F21E3B29A",
    "collapsed": false,
    "id": "5479937286254ACD87CAE81097957D7E",
    "jupyter": {
     "outputs_hidden": false
    },
    "notebookId": "62e22ba6d9ad8bab8144ca38",
    "slideshow": {
     "slide_type": "slide"
    },
    "tags": []
   },
   "outputs": [
    {
     "name": "stderr",
     "output_type": "stream",
     "text": [
      "0it [00:00, ?it/s]\n"
     ]
    }
   ],
   "source": [
    "# 找到所有文件名\n",
    "globalImgs = glob.glob('dataset/*tif')\n",
    "globalImgs.sort()\n",
    "# 定义输出路径\n",
    "# 需提前挂载work目录\n",
    "outDir = 'result/2. clipped dataset/'\n",
    "if not os.path.isdir(outDir):\n",
    "    os.mkdir(outDir)\n",
    "# 遍历所有文件\n",
    "for fn in tqdm(globalImgs):\n",
    "    # 读取数据\n",
    "    image,proj,trans = readTiff(fn)\n",
    "    # 裁剪图像\n",
    "    subImage,subProj,subGeotrans = clipImg(image,proj,trans,(2433, 34070),(6971,38082))\n",
    "    del image\n",
    "    _ = gc.collect()\n",
    "    # 输出到磁盘\n",
    "    bn = os.path.basename(fn)\n",
    "    outFn = outDir + bn\n",
    "    outTiff(subImage,subProj,subGeotrans,outFn)\n",
    "    del subImage\n",
    "    _ = gc.collect()\n",
    "    # 为了节省空间，删除全球图像\n",
    "    os.remove(fn)"
   ]
  },
  {
   "cell_type": "markdown",
   "metadata": {
    "_id": "BF567A5987CB457D8F37554D9E643A00",
    "id": "A9DF1771348A4B19B6D8820C4CF1A903",
    "jupyter": {},
    "mdEditEnable": false,
    "notebookId": "62e22ba6d9ad8bab8144ca38",
    "slideshow": {
     "slide_type": "slide"
    },
    "tags": []
   },
   "source": [
    "## 2. 逐步校正\n",
    "\n",
    "### 2.2. 第一步: 校正F14"
   ]
  },
  {
   "cell_type": "markdown",
   "metadata": {
    "_id": "EB8D61FFEE2F4CF4B8C6DD8832D3B27A",
    "id": "59216ACE1FEC4A56868DD4049AE95B67",
    "jupyter": {},
    "mdEditEnable": false,
    "notebookId": "62e22ba6d9ad8bab8144ca38",
    "slideshow": {
     "slide_type": "slide"
    },
    "tags": []
   },
   "source": [
    "F10和F12的灯光总量持续增长，展现住了很好的连续性，并且在1994年的几乎保持相等。因此假设F10和F12的灯光总量趋势是合理的，因此我们需要调整F14的灯光总量，使其与F10、F12保持连续的趋势。\n",
    "\n",
    "F14自身的灯光总量趋势是合理的，但相对其他卫星来说，存在低估现象，如上图中黄色椭圆部分所示。这种不一致可能归因于卫星系统差异，可以进行系统校正。考虑到F12和F14在1997年、1998年和1999年都有重叠，我们使用二次多项式模型来建立这两颗卫星之间的关系，可以表示为如下形式：\n",
    "\n",
    "$$\n",
    "DN_{ref} = w_{2}DN^{2} + w_{1}DN^{1} + w_{0}\n",
    "$$\n",
    "\n",
    "\n",
    "其中：\n",
    "- $DNref$ 表示 F12 卫星的像元\n",
    "- $DN$ 表示 F14 卫星的像元。\n",
    "- $w_{0}$、$w_{1}$ 和 $w_{2}$ 是模型的三个系数。\n",
    "\n",
    "接下来，我们将根据以上公式，对F14进行校正，分为模型拟合和校正两步。"
   ]
  },
  {
   "cell_type": "markdown",
   "metadata": {
    "_id": "AD5A2A53DF1046A194E2DEAA0AD07AB4",
    "id": "AE94B5DB5D9C4D0DBAF0E22801EE2274",
    "jupyter": {},
    "mdEditEnable": false,
    "notebookId": "62e22ba6d9ad8bab8144ca38",
    "slideshow": {
     "slide_type": "slide"
    },
    "tags": []
   },
   "source": [
    "### 2.2.1. 模型拟合"
   ]
  },
  {
   "cell_type": "markdown",
   "metadata": {
    "_id": "4016757A8559469B8DCF5512AC762182",
    "id": "70CFF3C7CFFB4E45A690E6263D41AFE6",
    "jupyter": {},
    "mdEditEnable": false,
    "notebookId": "62e22ba6d9ad8bab8144ca38",
    "slideshow": {
     "slide_type": "slide"
    },
    "tags": []
   },
   "source": [
    "首先，我们需要读取两颗卫星的数据成两个一维数组，以方便进行后续的模型拟合。"
   ]
  },
  {
   "cell_type": "code",
   "execution_count": 5,
   "metadata": {
    "_id": "832C98FD0822438984AA27D9D2F8222D",
    "collapsed": false,
    "id": "0A08EF98A6FC496A8E9EF933F2EE1D70",
    "jupyter": {
     "outputs_hidden": false
    },
    "notebookId": "62e22ba6d9ad8bab8144ca38",
    "slideshow": {
     "slide_type": "slide"
    },
    "tags": []
   },
   "outputs": [],
   "source": [
    "# 定义函数：将多个numpy array合并成一个长array\n",
    "@retry()\n",
    "def concat(listArr:\"a list of 2d array\",flatten:bool=True):\n",
    "    arrConcat = np.concatenate(listArr,axis=0)\n",
    "    if flatten:\n",
    "        return arrConcat.flatten()\n",
    "    return arrConcat"
   ]
  },
  {
   "cell_type": "code",
   "execution_count": 6,
   "metadata": {
    "_id": "A80D27BF1B5B4178AE3DD99E8E734814",
    "collapsed": false,
    "id": "BFEC832B79A8457B8961FA9413420A46",
    "jupyter": {
     "outputs_hidden": false
    },
    "notebookId": "62e22ba6d9ad8bab8144ca38",
    "slideshow": {
     "slide_type": "slide"
    },
    "tags": []
   },
   "outputs": [
    {
     "name": "stdout",
     "output_type": "stream",
     "text": [
      "arrF121997 has been read.\n",
      "arrF121998 has been read.\n",
      "arrF121999 has been read.\n",
      "arrF121997,arrF121998,arrF121999 has been concated\n",
      "arrF141997 has been read.\n",
      "arrF141998 has been read.\n",
      "arrF141999 has been read.\n",
      "arrF141997,arrF141998,arrF141999 has been concated\n"
     ]
    }
   ],
   "source": [
    "# 图像路径\n",
    "fnF121997 = glob.glob('result/2. clipped dataset/'+'*F121997*tif')[0]\n",
    "fnF121998 = glob.glob('result/2. clipped dataset/'+'*F121998*tif')[0]\n",
    "fnF121999 = glob.glob('result/2. clipped dataset/'+'*F121999*tif')[0]\n",
    "fnF141997 = glob.glob('result/2. clipped dataset/'+'*F141997*tif')[0]\n",
    "fnF141998 = glob.glob('result/2. clipped dataset/'+'*F141998*tif')[0]\n",
    "fnF141999 = glob.glob('result/2. clipped dataset/'+'*F141999*tif')[0]\n",
    "# 读取F12的图像\n",
    "arrF121997 = readTiff(fnF121997)[0]\n",
    "print('{0} has been read.'.format('arrF121997'))\n",
    "arrF121998 = readTiff(fnF121998)[0]\n",
    "print('{0} has been read.'.format('arrF121998'))\n",
    "arrF121999 = readTiff(fnF121999)[0]\n",
    "print('{0} has been read.'.format('arrF121999'))\n",
    "# 把arrF121997、arrF121998、arrF121999合并成一维数组\n",
    "arrF12 = concat([arrF121997,arrF121998,arrF121999])\n",
    "print('arrF121997,arrF121998,arrF121999 has been concated')\n",
    "del arrF121997,arrF121998,arrF121999\n",
    "_ = gc.collect()\n",
    "# 把arrF141997、arrF141998、arrF141999合并成一维数组\n",
    "arrF141997 = readTiff(fnF141997)[0]\n",
    "print('{0} has been read.'.format('arrF141997'))\n",
    "arrF141998 = readTiff(fnF141998)[0]\n",
    "print('{0} has been read.'.format('arrF141998'))\n",
    "arrF141999 = readTiff(fnF141999)[0]\n",
    "print('{0} has been read.'.format('arrF141999'))\n",
    "# 把arrF141997、arrF141998、arrF141999合并成一维数组\n",
    "arrF14 = concat([arrF141997,arrF141998,arrF141999])\n",
    "print('arrF141997,arrF141998,arrF141999 has been concated')\n",
    "del arrF141997,arrF141998,arrF141999\n",
    "_ = gc.collect()"
   ]
  },
  {
   "cell_type": "markdown",
   "metadata": {
    "_id": "0BF9F4C5970741EA84EF554AF3C83A51",
    "id": "C0924B80E1A44F4D99262088119C1D5C",
    "jupyter": {},
    "mdEditEnable": false,
    "notebookId": "62e22ba6d9ad8bab8144ca38",
    "slideshow": {
     "slide_type": "slide"
    },
    "tags": []
   },
   "source": [
    "接下来，以F12为参考图像，F14为待定标图像。通过二次多项式拟合两个卫星之间的关系。"
   ]
  },
  {
   "cell_type": "code",
   "execution_count": 7,
   "metadata": {
    "_id": "0542238241064F3887404E0002670278",
    "collapsed": false,
    "id": "FE2CFB3B906B4F99A00B5F4F32C646C3",
    "jupyter": {
     "outputs_hidden": false
    },
    "notebookId": "62e22ba6d9ad8bab8144ca38",
    "slideshow": {
     "slide_type": "slide"
    },
    "tags": []
   },
   "outputs": [],
   "source": [
    "# 定义函数：计算模型的决定系数R2\n",
    "@retry()\n",
    "def R2(paras,x,yTrue):\n",
    "    #\n",
    "    model = np.poly1d(paras)\n",
    "    yPred = model(x)\n",
    "    R2 = 1 - np.sum((yTrue - yPred)**2) / np.sum((yTrue - np.mean(yTrue))**2)\n",
    "    return R2\n",
    "\n",
    "# 定义函数：通过二次多项式拟合参考图像refArr与待定标图像waitArr之间的关系\n",
    "#@retry()\n",
    "def fitParameter(waitArr,refArr,xlabel='F14',ylabel='F12'):\n",
    "    # 定义亮像元的掩膜mask，它指示参考图像和待定标图像中都亮的区域\n",
    "    mask0 = waitArr>0\n",
    "    mask1 = refArr>0\n",
    "    mask = mask0 * mask1\n",
    "    del mask0,mask1\n",
    "    _ = gc.collect()\n",
    "    # 应用mask\n",
    "    x = waitArr[mask==1.]\n",
    "    y = refArr[mask==1.]\n",
    "    del mask\n",
    "    _ = gc.collect()\n",
    "    # 用二次多项式拟合参考图像和待定标图像之间的关系\n",
    "    paras = np.polyfit(x, y, 2)\n",
    "    # 绘图显示\n",
    "    ## 点\n",
    "    plt.figure(figsize=(5,5))\n",
    "    from matplotlib.colors import LogNorm\n",
    "    _ = plt.hist2d(x,y, bins=200, norm=LogNorm())\n",
    "    plt.xlabel(xlabel)\n",
    "    plt.ylabel(ylabel)\n",
    "    ## 线 \n",
    "    line  = []\n",
    "    for i in range(64):\n",
    "        line.append(np.poly1d(paras)(i))\n",
    "    plt.plot(list(range(64)),line,'-')\n",
    "    ## 参数\n",
    "    plt.text(70, 10, 'w2={0}\\n\\nw1={1}\\n\\nw0={2}'.format(paras[0],paras[1],paras[2]))\n",
    "    r_sq = R2(paras,x,y)\n",
    "    plt.text(70, 4, 'R2={0}'.format(r_sq))\n",
    "    del x,y\n",
    "    _ = gc.collect()\n",
    "    # 返回参数和R2\n",
    "    return paras,r_sq"
   ]
  },
  {
   "cell_type": "code",
   "execution_count": 8,
   "metadata": {
    "_id": "410FAE807C0E4109839F884225C6ACAD",
    "collapsed": false,
    "id": "24613006B3E14AD08A15DDFC164C8970",
    "jupyter": {
     "outputs_hidden": false
    },
    "notebookId": "62e22ba6d9ad8bab8144ca38",
    "slideshow": {
     "slide_type": "slide"
    },
    "tags": []
   },
   "outputs": [
    {
     "name": "stderr",
     "output_type": "stream",
     "text": [
      "/opt/conda/lib/python3.7/site-packages/ipykernel_launcher.py:3: RankWarning: Polyfit may be poorly conditioned\n",
      "  This is separate from the ipykernel package so we can avoid doing imports until\n"
     ]
    },
    {
     "name": "stdout",
     "output_type": "stream",
     "text": [
      "parameters: [0.00964711 0.48680182 5.28645081]\n",
      "R2: 0.9085130915045738\n"
     ]
    },
    {
     "data": {
      "image/png": "[encoded data removed]",
      "text/plain": [
       "<Figure size 360x360 with 1 Axes>"
      ]
     },
     "metadata": {
      "needs_background": "light"
     },
     "output_type": "display_data"
    }
   ],
   "source": [
    "waitArr = arrF14\n",
    "refArr = arrF12\n",
    "paras,r_sq = fitParameter(waitArr,refArr)\n",
    "print('parameters: {0}'.format(paras))\n",
    "print('R2: {0}'.format(r_sq))\n",
    "del waitArr,refArr,arrF14,arrF12\n",
    "_ = gc.collect()"
   ]
  },
  {
   "cell_type": "markdown",
   "metadata": {
    "id": "8C149E41AAEB4F8A94F715174818D89C",
    "jupyter": {},
    "notebookId": "62e22ba6d9ad8bab8144ca38",
    "slideshow": {
     "slide_type": "slide"
    },
    "tags": []
   },
   "source": [
    "从上图输出结果看，R^2 接近 0.91，还可以[^1]。\n",
    "[^1]: 一般超过 0.8 就可以认为校正结果不错了。"
   ]
  },
  {
   "cell_type": "markdown",
   "metadata": {
    "_id": "649E82D2D8B44FBF8B53ED7B2A15FAB9",
    "id": "3344DA0FE6A24250803F1237B73ADDA5",
    "jupyter": {},
    "mdEditEnable": false,
    "notebookId": "62e22ba6d9ad8bab8144ca38",
    "slideshow": {
     "slide_type": "slide"
    },
    "tags": []
   },
   "source": [
    "### 2.2.2. 校正"
   ]
  },
  {
   "cell_type": "markdown",
   "metadata": {
    "_id": "BCE689405E0D4D759E70373C446A9A17",
    "id": "9F49B91EB7B04C42857ACD69AC980777",
    "jupyter": {},
    "mdEditEnable": false,
    "notebookId": "62e22ba6d9ad8bab8144ca38",
    "slideshow": {
     "slide_type": "slide"
    },
    "tags": []
   },
   "source": [
    "现在我们已经得到了校正F14的二次多项式参数w2、w1、w0，接下来，我们应用该函数对F14的图像进行校正，这个过程被成为定标(calibration)。然后输出到磁盘。"
   ]
  },
  {
   "cell_type": "code",
   "execution_count": 9,
   "metadata": {
    "_id": "E36CEFE8E7E14C5FBB9254A96F2FA796",
    "collapsed": false,
    "id": "7FA7D6EBFBDF486186FE0999E0F1A819",
    "jupyter": {
     "outputs_hidden": false
    },
    "notebookId": "62e22ba6d9ad8bab8144ca38",
    "slideshow": {
     "slide_type": "slide"
    },
    "tags": []
   },
   "outputs": [],
   "source": [
    "# 定义函数：根据拟合的参数对待定标图像进行定标\n",
    "def calibrate(waitArr,paras):\n",
    "    model = np.poly1d(paras)\n",
    "    waitArr[waitArr!=0.] = model(waitArr[waitArr!=0.])\n",
    "    waitArr[waitArr<0.] = 0.\n",
    "    waitArr[waitArr>63.] = 63.\n",
    "    return waitArr\n",
    "\n",
    "# 定义函数：输出图像\n",
    "def outTif(arr,outFn,proj,trans):\n",
    "    # 创建driver\n",
    "    nrow = arr.shape[0]\n",
    "    ncol = arr.shape[1]\n",
    "    driver = gdal.GetDriverByName(\"GTiff\")\n",
    "    outdata = driver.Create(outFn,ncol,nrow,1, gdal.GDT_Float32)\n",
    "    outband = outdata.GetRasterBand(1)\n",
    "    # 写出数组\n",
    "    outband.WriteArray(arr)\n",
    "    # 添加地理参考\n",
    "    im_proj = proj\n",
    "    im_geotrans = trans\n",
    "    outdata.SetGeoTransform(im_geotrans)\n",
    "    outdata.SetProjection(im_proj)\n",
    "    driver = None\n",
    "    outdata = None\n",
    "    outband = None"
   ]
  },
  {
   "cell_type": "code",
   "execution_count": 10,
   "metadata": {
    "_id": "09C9AEE76D7144DB87277E623F9373E9",
    "collapsed": false,
    "id": "48976B53E6A849E5848C82DA1D71FE9F",
    "jupyter": {
     "outputs_hidden": false
    },
    "notebookId": "62e22ba6d9ad8bab8144ca38",
    "slideshow": {
     "slide_type": "slide"
    },
    "tags": []
   },
   "outputs": [
    {
     "name": "stdout",
     "output_type": "stream",
     "text": [
      "result/3. calibrated dataset/F141997.v4b_web.stable_lights.avg_vis.tif has been output\n",
      "result/3. calibrated dataset/F141998.v4b_web.stable_lights.avg_vis.tif has been output\n",
      "result/3. calibrated dataset/F141999.v4b_web.stable_lights.avg_vis.tif has been output\n",
      "result/3. calibrated dataset/F142000.v4b_web.stable_lights.avg_vis.tif has been output\n",
      "result/3. calibrated dataset/F142001.v4b_web.stable_lights.avg_vis.tif has been output\n",
      "result/3. calibrated dataset/F142002.v4b_web.stable_lights.avg_vis.tif has been output\n",
      "result/3. calibrated dataset/F142003.v4b_web.stable_lights.avg_vis.tif has been output\n"
     ]
    }
   ],
   "source": [
    "# 创建定标图像的输出路径\n",
    "calibratedDir = 'result/3. calibrated dataset/'\n",
    "if not os.path.isdir(calibratedDir):\n",
    "    os.mkdir(calibratedDir)\n",
    "\n",
    "# 收集F14所有的图像\n",
    "F14s = ['F141997','F141998','F141999','F142000','F142001','F142002','F142003']\n",
    "\n",
    "# 遍历每一幅图像\n",
    "for F14xxxx in F14s:\n",
    "    # 读取图像，对其进行定标\n",
    "    fnF14xxxx = glob.glob('result/2. clipped dataset/' + '*' + F14xxxx + '*tif')[0]\n",
    "    arrF14xxxx,proj,trans = readTiff(fnF14xxxx)\n",
    "    arrF14xxxx = calibrate(arrF14xxxx,paras)\n",
    "    # 将定标的F14xxxx图像输出\n",
    "    outFn = calibratedDir + os.path.basename(fnF14xxxx)\n",
    "    outTif(arrF14xxxx,outFn,proj,trans)\n",
    "    print('{0} has been output'.format(outFn))\n",
    "    del arrF14xxxx\n",
    "    _ = gc.collect()"
   ]
  },
  {
   "cell_type": "markdown",
   "metadata": {
    "_id": "EDFB284E248A41D0825F67CFE0CF91AE",
    "id": "D3374AD87E234823825036EF0958D06C",
    "jupyter": {},
    "mdEditEnable": false,
    "notebookId": "62e22ba6d9ad8bab8144ca38",
    "slideshow": {
     "slide_type": "slide"
    },
    "tags": []
   },
   "source": [
    "目前，我们已经将F14卫星每一年定标的图像放进了 ** /3. calibrated dataset/ ** 。由于F10和F12卫星的数据是无需校正的，为了方便后续的调用，我们将F10和F12卫星的数据拷贝到** /3. calibrated dataset/ ** 下面。"
   ]
  },
  {
   "cell_type": "code",
   "execution_count": 11,
   "metadata": {
    "_id": "B953F5EF06304B52B3BBEF9CEEEC9D6B",
    "collapsed": false,
    "id": "743B5632254846C691E0086788DBA546",
    "jupyter": {
     "outputs_hidden": false
    },
    "notebookId": "62e22ba6d9ad8bab8144ca38",
    "slideshow": {
     "slide_type": "slide"
    },
    "tags": []
   },
   "outputs": [
    {
     "name": "stderr",
     "output_type": "stream",
     "text": [
      "100%|██████████| 9/9 [00:04<00:00,  2.25it/s]\n"
     ]
    }
   ],
   "source": [
    "# 找到所有F10卫星的图像\n",
    "F10s = glob.glob('result/2. clipped dataset/' + 'F10*tif')\n",
    "F10s.sort()\n",
    "# 找到所有F12卫星的图像\n",
    "F12s = glob.glob('result/2. clipped dataset/' + 'F12*tif')\n",
    "F12s.sort()\n",
    "# 依次拷贝到/3. calibrated dataset/下面\n",
    "for f1nxxxx in tqdm(F10s + F12s):\n",
    "    shutil.copy(f1nxxxx,  'result/3. calibrated dataset/'+os.path.basename(f1nxxxx))"
   ]
  },
  {
   "cell_type": "markdown",
   "metadata": {
    "_id": "C218AEA98CE942E89C20708E810A8CDC",
    "id": "F6A3536BF910455DAC5A937B43F53F0B",
    "jupyter": {},
    "mdEditEnable": false,
    "notebookId": "62e22ba6d9ad8bab8144ca38",
    "slideshow": {
     "slide_type": "slide"
    },
    "tags": []
   },
   "source": [
    "接下来，为了可视化定标的效果，我们把F10、F12、F14卫星的定标以前的数据（位于** /2. clipped dataset/ ** 下）的灯光总和绘制出来，与定标以后的数据（位于** /3. calibrated dataset** 下）的灯光总和进行对比。"
   ]
  },
  {
   "cell_type": "code",
   "execution_count": 12,
   "metadata": {
    "_id": "8A6DB0A051444EA29908FEAF84789BAD",
    "collapsed": false,
    "id": "7E81034FF71A4C3184ACB8A64F1EA47F",
    "jupyter": {
     "outputs_hidden": false
    },
    "notebookId": "62e22ba6d9ad8bab8144ca38",
    "slideshow": {
     "slide_type": "slide"
    },
    "tags": []
   },
   "outputs": [],
   "source": [
    "# 定义函数：灯光亮度求和\n",
    "def sumNTL(arr):\n",
    "    sumNTL = np.sum(arr)\n",
    "    return sumNTL\n",
    "\n",
    "# 定义函数：创建dataframe以保存灯光总和值\n",
    "def createDF():\n",
    "    df = pd.DataFrame({\"F10\":[np.NAN for i in range(1992,2014)],\n",
    "                       \"F12\":[np.NAN for i in range(1992,2014)],\n",
    "                       \"F14\":[np.NAN for i in range(1992,2014)],\n",
    "                       \"F15\":[np.NAN for i in range(1992,2014)],\n",
    "                       \"F16\":[np.NAN for i in range(1992,2014)],\n",
    "                       \"F18\":[np.NAN for i in range(1992,2014)],},index=range(1992,2014))\n",
    "    return df"
   ]
  },
  {
   "cell_type": "code",
   "execution_count": 13,
   "metadata": {
    "_id": "B1FA413AF7BE44078509C46F60DB1353",
    "collapsed": false,
    "id": "3CADB003925D4F62932922A56B530E85",
    "jupyter": {
     "outputs_hidden": false
    },
    "notebookId": "62e22ba6d9ad8bab8144ca38",
    "slideshow": {
     "slide_type": "slide"
    },
    "tags": []
   },
   "outputs": [],
   "source": [
    "# 统计F10、F12、F14卫星的定标以前的数据（位于/2. clipped dataset/下）的灯光总和\n",
    "dfSum_beforeCalibration = createDF()\n",
    "# 遍历每一张图，进行求和计算\n",
    "fnF10xxxx = glob.glob('result/2. clipped dataset/F10*tif')\n",
    "fnF12xxxx = glob.glob('result/2. clipped dataset/F12*tif')\n",
    "fnF14xxxx = glob.glob('result/2. clipped dataset/F14*tif')\n",
    "for fn in fnF10xxxx + fnF12xxxx + fnF14xxxx:\n",
    "    # 读取图像计算总和\n",
    "    arr = readTiff(fn)[0]\n",
    "    sumValue = sumNTL(arr)\n",
    "    # 保存到dataframe的相应位置\n",
    "    fnn = os.path.basename(fn)[0:3]\n",
    "    xxxx = int(os.path.basename(fn)[3:7])\n",
    "    dfSum_beforeCalibration.loc[xxxx,fnn] = sumValue\n",
    "    del arr\n",
    "    gc.collect()"
   ]
  },
  {
   "cell_type": "code",
   "execution_count": 14,
   "metadata": {
    "_id": "7414EC76E68C466ABF2282C0599B12BD",
    "collapsed": false,
    "id": "25E8A5F322AA4F6B8888F4CA9837C0EF",
    "jupyter": {
     "outputs_hidden": false
    },
    "notebookId": "62e22ba6d9ad8bab8144ca38",
    "slideshow": {
     "slide_type": "slide"
    },
    "tags": []
   },
   "outputs": [],
   "source": [
    "# 统计F10、F12、F14卫星的定标以后的数据（位于/3. calibrated dataset/下）的灯光总和\n",
    "dfSum_afterCalibration = createDF()\n",
    "# 遍历每一张图，进行求和计算\n",
    "fnF10xxxx = glob.glob('result/3. calibrated dataset/F10*tif')\n",
    "fnF12xxxx = glob.glob('result/3. calibrated dataset/F12*tif')\n",
    "fnF14xxxx = glob.glob('result/3. calibrated dataset/F14*tif')\n",
    "for fn in fnF10xxxx + fnF12xxxx + fnF14xxxx:\n",
    "    # 读取图像计算总和\n",
    "    arr = readTiff(fn)[0]\n",
    "    sumValue = sumNTL(arr)\n",
    "    # 保存到dataframe的相应位置\n",
    "    fnn = os.path.basename(fn)[0:3]\n",
    "    xxxx = int(os.path.basename(fn)[3:7])\n",
    "    dfSum_afterCalibration.loc[xxxx,fnn] = sumValue\n",
    "    del arr\n",
    "    gc.collect()"
   ]
  },
  {
   "cell_type": "code",
   "execution_count": 15,
   "metadata": {
    "_id": "2370C36E8A004A32B9E109C7259F3A79",
    "collapsed": false,
    "id": "27E8D541161D4AEA810D4296ED005107",
    "jupyter": {
     "outputs_hidden": false
    },
    "notebookId": "62e22ba6d9ad8bab8144ca38",
    "slideshow": {
     "slide_type": "slide"
    },
    "tags": []
   },
   "outputs": [
    {
     "data": {
      "text/plain": [
       "<AxesSubplot:title={'center':'sum of light values !AFTER! calibration'}>"
      ]
     },
     "execution_count": 15,
     "metadata": {},
     "output_type": "execute_result"
    },
    {
     "data": {
      "image/png": "[encoded data removed]",
      "text/plain": [
       "<Figure size 720x216 with 1 Axes>"
      ]
     },
     "metadata": {
      "needs_background": "light"
     },
     "output_type": "display_data"
    },
    {
     "data": {
      "image/png": "[encoded data removed]",
      "text/plain": [
       "<Figure size 720x216 with 1 Axes>"
      ]
     },
     "metadata": {
      "needs_background": "light"
     },
     "output_type": "display_data"
    }
   ],
   "source": [
    "dfSum_beforeCalibration.plot(kind='line',figsize=[10,3],title='sum of light values !BEFORE! calibration')\n",
    "dfSum_afterCalibration.plot(kind='line',figsize=[10,3],title='sum of light values !AFTER! calibration')"
   ]
  },
  {
   "cell_type": "markdown",
   "metadata": {
    "_id": "4FCFA8A71C0F4C949B58B413193DF38B",
    "id": "86710E0478594C9C825D5DDAE081EDB3",
    "jupyter": {},
    "mdEditEnable": false,
    "notebookId": "62e22ba6d9ad8bab8144ca38",
    "slideshow": {
     "slide_type": "slide"
    },
    "tags": []
   },
   "source": [
    "通过上图对比可知，定标之后的灯光总量，相比于之前，F10、F12、F14连续性显著提升，与这一地区的经济发展趋势相符。"
   ]
  },
  {
   "cell_type": "markdown",
   "metadata": {
    "_id": "C3C40FB064A64E1D8AEB5C5A9F6B7A37",
    "id": "2078E44ACB384BDDBB3A8CF0A2B8EA13",
    "jupyter": {},
    "mdEditEnable": false,
    "notebookId": "62e22ba6d9ad8bab8144ca38",
    "slideshow": {
     "slide_type": "slide"
    },
    "tags": []
   },
   "source": [
    "### 2.3. 第二步: 校正F15"
   ]
  },
  {
   "cell_type": "markdown",
   "metadata": {
    "_id": "D0C713F84EA645C68BB39C79509FD74A",
    "id": "EB1112795E9544478F607A61F1DA79AA",
    "jupyter": {},
    "mdEditEnable": false,
    "notebookId": "62e22ba6d9ad8bab8144ca38",
    "slideshow": {
     "slide_type": "slide"
    },
    "tags": []
   },
   "source": [
    "接下来我们对F15卫星的数据进行校正。通过观察上面的**Figure 4**可以发现，F15卫星的2000、2001、2002年数据与之前的卫星的趋势是一致的，因此我们认为该卫星的这三年数据是正确的。然而从2003年开始，F15卫星的灯光总量陡然降低（如 **Figure 4** 的紫色椭圆所示），趋势与之前不符，这可能是2003年之后该卫星退化，出现了明显的系统误差，因此我们需要对F15的这部分数据进行校正。\n",
    "\n",
    "我们使用之前**已经校正的**F142003的所有亮像素作为参考，以F152003的所有亮像素作为待定标图像，仍然使用二次多项式进行建立两者之间的定标关系。"
   ]
  },
  {
   "cell_type": "markdown",
   "metadata": {
    "_id": "BBECA79DD9404E35843655CF2E1B8994",
    "id": "7F5B7EFB5E6F4DE08659782776C47BB6",
    "jupyter": {},
    "mdEditEnable": false,
    "notebookId": "62e22ba6d9ad8bab8144ca38",
    "slideshow": {
     "slide_type": "slide"
    },
    "tags": []
   },
   "source": [
    "#### 2.3.1. 模型拟合"
   ]
  },
  {
   "cell_type": "code",
   "execution_count": 16,
   "metadata": {
    "_id": "48BEEDAC7B734CE28AAA3746634D2CE7",
    "collapsed": false,
    "id": "E2153A825F454A0189A09CCE91FEB2FC",
    "jupyter": {
     "outputs_hidden": false
    },
    "notebookId": "62e22ba6d9ad8bab8144ca38",
    "slideshow": {
     "slide_type": "slide"
    },
    "tags": []
   },
   "outputs": [],
   "source": [
    "# 图像路径\n",
    "fnF142003 = glob.glob('result/3. calibrated dataset/'+'*F142003*tif')[0]\n",
    "fnF152003 = glob.glob('result/2. clipped dataset/'+'*F152003*tif')[0]\n",
    "# 读取F142003的图像\n",
    "arrF142003 = readTiff(fnF142003)[0]\n",
    "# 把F142003数组展成一维数组\n",
    "arrF142003 = concat([arrF142003])\n",
    "# 读取F152003的图像\n",
    "arrF152003 = readTiff(fnF152003)[0]\n",
    "# 把F152003数组展成一维数组\n",
    "arrF152003 = concat([arrF152003])"
   ]
  },
  {
   "cell_type": "code",
   "execution_count": 17,
   "metadata": {
    "_id": "7DD401D81EDD48248AC65449D2D152F6",
    "collapsed": false,
    "id": "7D8B122ACEE84D4C95E9A0198279BCDE",
    "jupyter": {
     "outputs_hidden": false
    },
    "notebookId": "62e22ba6d9ad8bab8144ca38",
    "slideshow": {
     "slide_type": "slide"
    },
    "tags": []
   },
   "outputs": [
    {
     "name": "stderr",
     "output_type": "stream",
     "text": [
      "/opt/conda/lib/python3.7/site-packages/ipykernel_launcher.py:3: RankWarning: Polyfit may be poorly conditioned\n",
      "  This is separate from the ipykernel package so we can avoid doing imports until\n"
     ]
    },
    {
     "name": "stdout",
     "output_type": "stream",
     "text": [
      "parameters: [0.00941815 0.49648862 6.13129568]\n",
      "R2: 0.9481293857097626\n"
     ]
    },
    {
     "data": {
      "image/png": "[encoded data removed]",
      "text/plain": [
       "<Figure size 360x360 with 1 Axes>"
      ]
     },
     "metadata": {
      "needs_background": "light"
     },
     "output_type": "display_data"
    }
   ],
   "source": [
    "waitArr = arrF152003\n",
    "refArr = arrF142003\n",
    "paras,r_sq = fitParameter(waitArr,refArr,xlabel='F152003',ylabel='F142003')\n",
    "print('parameters: {0}'.format(paras))\n",
    "print('R2: {0}'.format(r_sq))\n",
    "del waitArr,refArr,arrF152003,arrF142003\n",
    "_ = gc.collect()"
   ]
  },
  {
   "cell_type": "markdown",
   "metadata": {
    "_id": "3C4FCB21FB754F9C8603F04194172E98",
    "id": "010D48EB5E6C47D29B1140EC87A476A0",
    "jupyter": {},
    "mdEditEnable": false,
    "notebookId": "62e22ba6d9ad8bab8144ca38",
    "slideshow": {
     "slide_type": "slide"
    },
    "tags": []
   },
   "source": [
    "#### 2.3.2. 校正"
   ]
  },
  {
   "cell_type": "markdown",
   "metadata": {
    "_id": "9AD53F3C037D4C2BA44107DB02569D25",
    "id": "63B9A13B12EE4ED08D171D4FEA6E49B3",
    "jupyter": {},
    "mdEditEnable": false,
    "notebookId": "62e22ba6d9ad8bab8144ca38",
    "slideshow": {
     "slide_type": "slide"
    },
    "tags": []
   },
   "source": [
    "在得到针对F15卫星的模型参数之后，我们把该模型应用到F15卫星的从2003年到2007年的数据上，如此可以完成对F15卫星的定标。"
   ]
  },
  {
   "cell_type": "code",
   "execution_count": 18,
   "metadata": {
    "_id": "1D26AFDA685E4EBEAC71B70653B75CD7",
    "collapsed": false,
    "id": "43B32EDED83A411A9D5D98BD37D7532D",
    "jupyter": {
     "outputs_hidden": false
    },
    "notebookId": "62e22ba6d9ad8bab8144ca38",
    "slideshow": {
     "slide_type": "slide"
    },
    "tags": []
   },
   "outputs": [
    {
     "name": "stdout",
     "output_type": "stream",
     "text": [
      "result/3. calibrated dataset/F152003.v4b_web.stable_lights.avg_vis.tif has been output\n",
      "result/3. calibrated dataset/F152004.v4b_web.stable_lights.avg_vis.tif has been output\n",
      "result/3. calibrated dataset/F152005.v4b_web.stable_lights.avg_vis.tif has been output\n",
      "result/3. calibrated dataset/F152006.v4b_web.stable_lights.avg_vis.tif has been output\n",
      "result/3. calibrated dataset/F152007.v4b_web.stable_lights.avg_vis.tif has been output\n"
     ]
    }
   ],
   "source": [
    "# 输出路径\n",
    "calibratedDir = 'result/3. calibrated dataset/'\n",
    "if not os.path.isdir(calibratedDir):\n",
    "    os.mkdir(calibratedDir)\n",
    "\n",
    "# 收集F14所有的图像\n",
    "F15s = ['F152003','F152004','F152005','F152006','F152007']\n",
    "\n",
    "# 遍历每一幅图像\n",
    "for F15xxxx in F15s:\n",
    "    # 读取图像，对其进行定标\n",
    "    fnF15xxxx = glob.glob('result/2. clipped dataset/' + '*' + F15xxxx + '*tif')[0]\n",
    "    arrF15xxxx,proj,trans = readTiff(fnF15xxxx)\n",
    "    arrF15xxxx = calibrate(arrF15xxxx,paras)\n",
    "    # 将定标的F15xxxx图像输出\n",
    "    outFn = calibratedDir + os.path.basename(fnF15xxxx)\n",
    "    outTif(arrF15xxxx,outFn,proj,trans)\n",
    "    print('{0} has been output'.format(outFn))\n",
    "    del arrF15xxxx\n",
    "    _ = gc.collect()"
   ]
  },
  {
   "cell_type": "markdown",
   "metadata": {
    "_id": "6EBE41ECBE1F41FEB194C06B95ABF3B8",
    "id": "43AFCC9DDC2044228F77C281AA6938B0",
    "jupyter": {},
    "mdEditEnable": false,
    "notebookId": "62e22ba6d9ad8bab8144ca38",
    "slideshow": {
     "slide_type": "slide"
    },
    "tags": []
   },
   "source": [
    "目前，我们已经将校正的F15卫星2003年至2007年的图像放进了** /3. calibrated dataset/ **。由于F15卫星2000年至2002年的数据是无需校正的，为了方便后续的调用，我们将F15卫星2000年至2002年的数据拷贝到** /3. calibrated dataset/ **下面。"
   ]
  },
  {
   "cell_type": "code",
   "execution_count": 19,
   "metadata": {
    "_id": "AE8B87F0897848AD929E3F8B62B49804",
    "collapsed": false,
    "id": "F8B31EEEFB4D42BFB8409CB36A097ACD",
    "jupyter": {
     "outputs_hidden": false
    },
    "notebookId": "62e22ba6d9ad8bab8144ca38",
    "slideshow": {
     "slide_type": "slide"
    },
    "tags": []
   },
   "outputs": [
    {
     "name": "stderr",
     "output_type": "stream",
     "text": [
      "100%|██████████| 3/3 [00:01<00:00,  2.75it/s]\n"
     ]
    }
   ],
   "source": [
    "# 找到所有F15卫星的图像\n",
    "F15s =  glob.glob('result/2. clipped dataset/' + 'F152000*tif')+ \\\n",
    "        glob.glob('result/2. clipped dataset/' + 'F152001*tif')+ \\\n",
    "        glob.glob('result/2. clipped dataset/' + 'F152002*tif')\n",
    "F15s.sort()\n",
    "# 依次拷贝到/3. calibrated dataset/下面\n",
    "for f1nxxxx in tqdm(F15s):\n",
    "    shutil.copy(f1nxxxx,  'result/3. calibrated dataset/'+os.path.basename(f1nxxxx))"
   ]
  },
  {
   "cell_type": "markdown",
   "metadata": {
    "_id": "80D7798DB3E6486897C5ABFB0BCD33B9",
    "id": "21F5D304724D4FC881899B5C58D9AF0E",
    "jupyter": {},
    "mdEditEnable": false,
    "notebookId": "62e22ba6d9ad8bab8144ca38",
    "slideshow": {
     "slide_type": "slide"
    },
    "tags": []
   },
   "source": [
    "接下来，我们再次使用可视化的方式查看定标效果。我们把F10、F12、F14、F15卫星的定标以前的数据（位于** /2. clipped dataset/** 下）的灯光总和绘制出来，与定标以后的数据（位于** /3. calibrated dataset/ **下）的灯光总和进行对比。"
   ]
  },
  {
   "cell_type": "code",
   "execution_count": 20,
   "metadata": {
    "_id": "2FE945AA71874ED6BDD0D2510AD85DBE",
    "collapsed": false,
    "id": "3945288CF53C42EB9B86A3AE16ABE2FA",
    "jupyter": {
     "outputs_hidden": false
    },
    "notebookId": "62e22ba6d9ad8bab8144ca38",
    "slideshow": {
     "slide_type": "slide"
    },
    "tags": []
   },
   "outputs": [],
   "source": [
    "# 统计F10、F12、F14、F15卫星的定标以前的数据（位于/2. clipped dataset/下）的灯光总和\n",
    "dfSum_beforeCalibration = createDF()\n",
    "# 遍历每一张图，进行求和计算\n",
    "fnF10xxxx = glob.glob('result/2. clipped dataset/F10*tif')\n",
    "fnF12xxxx = glob.glob('result/2. clipped dataset/F12*tif')\n",
    "fnF14xxxx = glob.glob('result/2. clipped dataset/F14*tif')\n",
    "fnF15xxxx = glob.glob('result/2. clipped dataset/F15*tif')\n",
    "for fn in fnF10xxxx + fnF12xxxx + fnF14xxxx+ fnF15xxxx:\n",
    "    # 读取图像计算总和\n",
    "    arr = readTiff(fn)[0]\n",
    "    sumValue = sumNTL(arr)\n",
    "    # 保存到dataframe的相应位置\n",
    "    fnn = os.path.basename(fn)[0:3]\n",
    "    xxxx = int(os.path.basename(fn)[3:7])\n",
    "    dfSum_beforeCalibration.loc[xxxx,fnn] = sumValue\n",
    "    del arr\n",
    "    gc.collect()"
   ]
  },
  {
   "cell_type": "code",
   "execution_count": 21,
   "metadata": {
    "_id": "06A8E78C6F86431EB33967F6D73D58F0",
    "collapsed": false,
    "id": "EB7CAD6CD7D34EB48ABE119067680080",
    "jupyter": {
     "outputs_hidden": false
    },
    "notebookId": "62e22ba6d9ad8bab8144ca38",
    "slideshow": {
     "slide_type": "slide"
    },
    "tags": []
   },
   "outputs": [],
   "source": [
    "# 统计F10、F12、F14卫星的定标以后的数据（位于/3. calibrated dataset/下）的灯光总和\n",
    "dfSum_afterCalibration = createDF()\n",
    "# 遍历每一张图，进行求和计算\n",
    "fnF10xxxx = glob.glob('result/3. calibrated dataset/F10*tif')\n",
    "fnF12xxxx = glob.glob('result/3. calibrated dataset/F12*tif')\n",
    "fnF14xxxx = glob.glob('result/3. calibrated dataset/F14*tif')\n",
    "fnF15xxxx = glob.glob('result/3. calibrated dataset/F15*tif')\n",
    "for fn in fnF10xxxx + fnF12xxxx + fnF14xxxx + fnF15xxxx:\n",
    "    # 读取图像计算总和\n",
    "    arr = readTiff(fn)[0]\n",
    "    sumValue = sumNTL(arr)\n",
    "    # 保存到dataframe的相应位置\n",
    "    fnn = os.path.basename(fn)[0:3]\n",
    "    xxxx = int(os.path.basename(fn)[3:7])\n",
    "    dfSum_afterCalibration.loc[xxxx,fnn] = sumValue\n",
    "    del arr\n",
    "    gc.collect()"
   ]
  },
  {
   "cell_type": "code",
   "execution_count": 22,
   "metadata": {
    "_id": "610E059ACD8C4EEA9E99479FF1B77860",
    "collapsed": false,
    "id": "73623379276F456F8AC9881399D55810",
    "jupyter": {
     "outputs_hidden": false
    },
    "notebookId": "62e22ba6d9ad8bab8144ca38",
    "slideshow": {
     "slide_type": "slide"
    },
    "tags": []
   },
   "outputs": [
    {
     "data": {
      "text/plain": [
       "<AxesSubplot:title={'center':'sum of light values !AFTER! calibration'}>"
      ]
     },
     "execution_count": 22,
     "metadata": {},
     "output_type": "execute_result"
    },
    {
     "data": {
      "image/png": "[encoded data removed]",
      "text/plain": [
       "<Figure size 720x216 with 1 Axes>"
      ]
     },
     "metadata": {
      "needs_background": "light"
     },
     "output_type": "display_data"
    },
    {
     "data": {
      "image/png": "[encoded data removed]",
      "text/plain": [
       "<Figure size 720x216 with 1 Axes>"
      ]
     },
     "metadata": {
      "needs_background": "light"
     },
     "output_type": "display_data"
    }
   ],
   "source": [
    "dfSum_beforeCalibration.plot(kind='line',figsize=[10,3],title='sum of light values !BEFORE! calibration')\n",
    "dfSum_afterCalibration.plot(kind='line',figsize=[10,3],title='sum of light values !AFTER! calibration')"
   ]
  },
  {
   "cell_type": "markdown",
   "metadata": {
    "_id": "1F8873AD8E8F42328D0F3FAE9142C50A",
    "id": "9434F08A84DB406C90586B43FDEEBFB1",
    "jupyter": {},
    "mdEditEnable": false,
    "notebookId": "62e22ba6d9ad8bab8144ca38",
    "slideshow": {
     "slide_type": "slide"
    },
    "tags": []
   },
   "source": [
    "通过上图对比可知，定标之后的灯光总量，相比于之前，F10、F12、F14、F15连续性显著提升，与这一地区的经济发展趋势相符。"
   ]
  },
  {
   "cell_type": "markdown",
   "metadata": {
    "_id": "3780F6A6AFBA4C5E866B93484DEF0D0C",
    "id": "3B43FD9924B04ED0A33FC900C236F9F7",
    "jupyter": {},
    "mdEditEnable": false,
    "notebookId": "62e22ba6d9ad8bab8144ca38",
    "slideshow": {
     "slide_type": "slide"
    },
    "tags": []
   },
   "source": [
    "### 2.4. 第三步: 校正F16"
   ]
  },
  {
   "cell_type": "markdown",
   "metadata": {
    "_id": "1321623704014B618651486646918CE3",
    "id": "8F4D41F6F8124474851DF2D04B0A8616",
    "jupyter": {},
    "mdEditEnable": false,
    "notebookId": "62e22ba6d9ad8bab8144ca38",
    "slideshow": {
     "slide_type": "slide"
    },
    "tags": []
   },
   "source": [
    "接下来我们对F16进行系统校正。本节我们简化了原文中的操作。我们采用F15卫星2005年的数据作为参考图像，F16卫星的2005年的数据作为待定标图像，拟合二次多项式。"
   ]
  },
  {
   "cell_type": "markdown",
   "metadata": {
    "_id": "AC4B9CD937E9470686C577C3FAB89C2C",
    "id": "B87691E679624DB78A1CF9225EA54A16",
    "jupyter": {},
    "mdEditEnable": false,
    "notebookId": "62e22ba6d9ad8bab8144ca38",
    "slideshow": {
     "slide_type": "slide"
    },
    "tags": []
   },
   "source": [
    "#### 2.4.1. 模型拟合"
   ]
  },
  {
   "cell_type": "code",
   "execution_count": 23,
   "metadata": {
    "_id": "FE543ED30CBA4D3982E1F7F3F41DFE63",
    "collapsed": false,
    "id": "3436119FFB89410DBEC445DB0A49218F",
    "jupyter": {
     "outputs_hidden": false
    },
    "notebookId": "62e22ba6d9ad8bab8144ca38",
    "slideshow": {
     "slide_type": "slide"
    },
    "tags": []
   },
   "outputs": [],
   "source": [
    "# 图像路径\n",
    "fnF152005 = glob.glob('result/3. calibrated dataset/'+'*F152005*tif')[0]\n",
    "fnF162005 = glob.glob('result/2. clipped dataset/'+'*F162005*tif')[0]\n",
    "# 读取F152005的图像\n",
    "arrF152005 = readTiff(fnF152005)[0]\n",
    "# 把F152005数组展成一维数组\n",
    "arrF152005 = concat([arrF152005])\n",
    "# 读取F162005的图像\n",
    "arrF162005 = readTiff(fnF162005)[0]\n",
    "# 把F162005数组展成一维数组\n",
    "arrF162005 = concat([arrF162005])"
   ]
  },
  {
   "cell_type": "code",
   "execution_count": 24,
   "metadata": {
    "_id": "FCCC865684B44C70ABE12CF57FB4A949",
    "collapsed": false,
    "id": "3DE245BF1BEE49FAA03FAC03E357421B",
    "jupyter": {
     "outputs_hidden": false
    },
    "notebookId": "62e22ba6d9ad8bab8144ca38",
    "slideshow": {
     "slide_type": "slide"
    },
    "tags": []
   },
   "outputs": [
    {
     "name": "stderr",
     "output_type": "stream",
     "text": [
      "/opt/conda/lib/python3.7/site-packages/ipykernel_launcher.py:3: RankWarning: Polyfit may be poorly conditioned\n",
      "  This is separate from the ipykernel package so we can avoid doing imports until\n"
     ]
    },
    {
     "name": "stdout",
     "output_type": "stream",
     "text": [
      "parameters: [0.00863814 0.47204778 6.30313554]\n",
      "R2: 0.9603672511875629\n"
     ]
    },
    {
     "data": {
      "image/png": "[encoded data removed]",
      "text/plain": [
       "<Figure size 360x360 with 1 Axes>"
      ]
     },
     "metadata": {
      "needs_background": "light"
     },
     "output_type": "display_data"
    }
   ],
   "source": [
    "waitArr = arrF162005\n",
    "refArr = arrF152005\n",
    "paras,r_sq = fitParameter(waitArr,refArr,xlabel='F162005',ylabel='F152005')\n",
    "print('parameters: {0}'.format(paras))\n",
    "print('R2: {0}'.format(r_sq))\n",
    "del waitArr,refArr,arrF162005,arrF152005\n",
    "_ = gc.collect()"
   ]
  },
  {
   "cell_type": "markdown",
   "metadata": {
    "_id": "D83D93734AAB424F8B4F075A967961DA",
    "id": "60B699EDD4194604B59179DA01513BD9",
    "jupyter": {},
    "mdEditEnable": false,
    "notebookId": "62e22ba6d9ad8bab8144ca38",
    "slideshow": {
     "slide_type": "slide"
    },
    "tags": []
   },
   "source": [
    "#### 2.4.2. 校正"
   ]
  },
  {
   "cell_type": "markdown",
   "metadata": {
    "_id": "D13B8EF7463F474688C10A28CF5C4C04",
    "id": "114914A7036544A6889F433EEFAF343F",
    "jupyter": {},
    "mdEditEnable": false,
    "notebookId": "62e22ba6d9ad8bab8144ca38",
    "slideshow": {
     "slide_type": "slide"
    },
    "tags": []
   },
   "source": [
    "接下来，应用拟合的参数，对F16每一年的数据进行系统性校正。"
   ]
  },
  {
   "cell_type": "code",
   "execution_count": 25,
   "metadata": {
    "_id": "560B58845ED7454183B8193855798C32",
    "collapsed": false,
    "id": "E6AEB74D088E40F0A54548B273D2C31E",
    "jupyter": {
     "outputs_hidden": false
    },
    "notebookId": "62e22ba6d9ad8bab8144ca38",
    "slideshow": {
     "slide_type": "slide"
    },
    "tags": []
   },
   "outputs": [
    {
     "name": "stdout",
     "output_type": "stream",
     "text": [
      "result/3. calibrated dataset/F162004.v4b_web.stable_lights.avg_vis.tif has been output\n",
      "result/3. calibrated dataset/F162005.v4b_web.stable_lights.avg_vis.tif has been output\n",
      "result/3. calibrated dataset/F162006.v4b_web.stable_lights.avg_vis.tif has been output\n",
      "result/3. calibrated dataset/F162007.v4b_web.stable_lights.avg_vis.tif has been output\n",
      "result/3. calibrated dataset/F162008.v4b_web.stable_lights.avg_vis.tif has been output\n",
      "result/3. calibrated dataset/F162009.v4b_web.stable_lights.avg_vis.tif has been output\n"
     ]
    }
   ],
   "source": [
    "calibratedDir = 'result/3. calibrated dataset/'\n",
    "if not os.path.isdir(calibratedDir):\n",
    "    os.mkdir(calibratedDir)\n",
    "\n",
    "# 收集F14所有的图像\n",
    "F16s = ['F162004','F162005','F162006','F162007','F162008','F162009']\n",
    "\n",
    "# 遍历每一幅图像\n",
    "for F16xxxx in F16s:\n",
    "    # 读取图像，对其进行定标\n",
    "    fnF16xxxx = glob.glob('result/2. clipped dataset/' + '*' + F16xxxx + '*tif')[0]\n",
    "    arrF16xxxx,proj,trans = readTiff(fnF16xxxx)\n",
    "    arrF16xxxx = calibrate(arrF16xxxx,paras)\n",
    "    # 将定标的F16xxxx图像输出\n",
    "    outFn = calibratedDir + os.path.basename(fnF16xxxx)\n",
    "    outTif(arrF16xxxx,outFn,proj,trans)\n",
    "    print('{0} has been output'.format(outFn))\n",
    "    del arrF16xxxx\n",
    "    _ = gc.collect()"
   ]
  },
  {
   "cell_type": "markdown",
   "metadata": {
    "_id": "27F74DB42F1D445793F48E27070FBD9E",
    "id": "DB4FD7D5EF574F4984672FEF2E53FAC4",
    "jupyter": {},
    "mdEditEnable": false,
    "notebookId": "62e22ba6d9ad8bab8144ca38",
    "slideshow": {
     "slide_type": "slide"
    },
    "tags": []
   },
   "source": [
    "接下来进行可视化展示。"
   ]
  },
  {
   "cell_type": "code",
   "execution_count": 26,
   "metadata": {
    "_id": "142B7D7D8AB640DF81B67E6F079E5126",
    "collapsed": false,
    "id": "3DC8E11395D5426E9772DF78BE18DDA3",
    "jupyter": {
     "outputs_hidden": false
    },
    "notebookId": "62e22ba6d9ad8bab8144ca38",
    "slideshow": {
     "slide_type": "slide"
    },
    "tags": []
   },
   "outputs": [],
   "source": [
    "# 统计F10、F12、F14、F15、F16卫星的定标以前的数据（位于/2. clipped dataset/下）的灯光总和\n",
    "dfSum_beforeCalibration = createDF()\n",
    "# 遍历每一张图，进行求和计算\n",
    "fnF10xxxx = glob.glob('result/2. clipped dataset/F10*tif')\n",
    "fnF12xxxx = glob.glob('result/2. clipped dataset/F12*tif')\n",
    "fnF14xxxx = glob.glob('result/2. clipped dataset/F14*tif')\n",
    "fnF15xxxx = glob.glob('result/2. clipped dataset/F15*tif')\n",
    "fnF16xxxx = glob.glob('result/2. clipped dataset/F16*tif')\n",
    "for fn in fnF10xxxx + fnF12xxxx + fnF14xxxx+ fnF15xxxx+ fnF16xxxx:\n",
    "    # 读取图像计算总和\n",
    "    arr = readTiff(fn)[0]\n",
    "    sumValue = sumNTL(arr)\n",
    "    # 保存到dataframe的相应位置\n",
    "    fnn = os.path.basename(fn)[0:3]\n",
    "    xxxx = int(os.path.basename(fn)[3:7])\n",
    "    dfSum_beforeCalibration.loc[xxxx,fnn] = sumValue\n",
    "    del arr\n",
    "    gc.collect()"
   ]
  },
  {
   "cell_type": "code",
   "execution_count": 27,
   "metadata": {
    "_id": "0A672CB1418A495F8D3EE4BD0BD747CB",
    "collapsed": false,
    "id": "FC3ECB54D16647E685CEC08B8EAE9E65",
    "jupyter": {
     "outputs_hidden": false
    },
    "notebookId": "62e22ba6d9ad8bab8144ca38",
    "slideshow": {
     "slide_type": "slide"
    },
    "tags": []
   },
   "outputs": [],
   "source": [
    "# 统计F10、F12、F14、F15、F16卫星的定标以后的数据（位于/3. calibrated dataset/下）的灯光总和\n",
    "dfSum_afterCalibration = createDF()\n",
    "# 遍历每一张图，进行求和计算\n",
    "fnF10xxxx = glob.glob('result/3. calibrated dataset/F10*tif')\n",
    "fnF12xxxx = glob.glob('result/3. calibrated dataset/F12*tif')\n",
    "fnF14xxxx = glob.glob('result/3. calibrated dataset/F14*tif')\n",
    "fnF15xxxx = glob.glob('result/3. calibrated dataset/F15*tif')\n",
    "fnF16xxxx = glob.glob('result/3. calibrated dataset/F16*tif')\n",
    "for fn in fnF10xxxx + fnF12xxxx + fnF14xxxx + fnF15xxxx+ fnF16xxxx:\n",
    "    # 读取图像计算总和\n",
    "    arr = readTiff(fn)[0]\n",
    "    sumValue = sumNTL(arr)\n",
    "    # 保存到dataframe的相应位置\n",
    "    fnn = os.path.basename(fn)[0:3]\n",
    "    xxxx = int(os.path.basename(fn)[3:7])\n",
    "    dfSum_afterCalibration.loc[xxxx,fnn] = sumValue\n",
    "    del arr\n",
    "    gc.collect()"
   ]
  },
  {
   "cell_type": "code",
   "execution_count": 28,
   "metadata": {
    "_id": "2EB1712D5AAC433598DE770FFD42BC33",
    "collapsed": false,
    "id": "8A2110BB3CD844E5BBE18AFD3314E45A",
    "jupyter": {
     "outputs_hidden": false
    },
    "notebookId": "62e22ba6d9ad8bab8144ca38",
    "slideshow": {
     "slide_type": "slide"
    },
    "tags": []
   },
   "outputs": [
    {
     "data": {
      "text/plain": [
       "<AxesSubplot:title={'center':'sum of light values !AFTER! calibration'}>"
      ]
     },
     "execution_count": 28,
     "metadata": {},
     "output_type": "execute_result"
    },
    {
     "data": {
      "image/png": "[encoded data removed]",
      "text/plain": [
       "<Figure size 720x216 with 1 Axes>"
      ]
     },
     "metadata": {
      "needs_background": "light"
     },
     "output_type": "display_data"
    },
    {
     "data": {
      "image/png": "[encoded data removed]",
      "text/plain": [
       "<Figure size 720x216 with 1 Axes>"
      ]
     },
     "metadata": {
      "needs_background": "light"
     },
     "output_type": "display_data"
    }
   ],
   "source": [
    "dfSum_beforeCalibration.plot(kind='line',figsize=[10,3],title='sum of light values !BEFORE! calibration')\n",
    "dfSum_afterCalibration.plot(kind='line',figsize=[10,3],title='sum of light values !AFTER! calibration')"
   ]
  },
  {
   "cell_type": "markdown",
   "metadata": {
    "_id": "5BE8D131A78C4A5C84903B7926DF75D1",
    "id": "BAE59C98161945C39E2D05D2DD2A9038",
    "jupyter": {},
    "mdEditEnable": false,
    "notebookId": "62e22ba6d9ad8bab8144ca38",
    "slideshow": {
     "slide_type": "slide"
    },
    "tags": []
   },
   "source": [
    "可以看出，相比之前，F10、F12、F14、F15、F16的连续性得到增强。"
   ]
  },
  {
   "cell_type": "markdown",
   "metadata": {
    "_id": "FB67588211C445A09913472FC6E9FE10",
    "id": "B9DEDFC166AA40C0A1584D7D56A67368",
    "jupyter": {},
    "mdEditEnable": false,
    "notebookId": "62e22ba6d9ad8bab8144ca38",
    "slideshow": {
     "slide_type": "slide"
    },
    "tags": []
   },
   "source": [
    "### 2.5. 第四步: 校正F182010"
   ]
  },
  {
   "cell_type": "markdown",
   "metadata": {
    "_id": "5786236FF99C4022A8876862C4B05014",
    "id": "2DA52BE0BAA84315AD8BBFDB393EB858",
    "jupyter": {},
    "mdEditEnable": false,
    "notebookId": "62e22ba6d9ad8bab8144ca38",
    "slideshow": {
     "slide_type": "slide"
    },
    "tags": []
   },
   "source": [
    "\n",
    "在F18卫星的数据中，2010年的数据的灯光总和异常高，如**Figure 4**中的蓝色圆圈所示。F18卫星的其他年份数据与其他卫星的趋势一致。因此我们只需要对这一年的数据进行校正。考虑到2010年只有一幅图像，我们使用校正的F16卫星的2009年数据作为参考，以此调整F182010。"
   ]
  },
  {
   "cell_type": "markdown",
   "metadata": {
    "_id": "2859F80AE5DF49FB833BCC246952C9B5",
    "id": "727A31A64EB748BFB2D0AFE0E36D3C83",
    "jupyter": {},
    "mdEditEnable": false,
    "notebookId": "62e22ba6d9ad8bab8144ca38",
    "slideshow": {
     "slide_type": "slide"
    },
    "tags": []
   },
   "source": [
    "#### 2.5.1. 模型拟合"
   ]
  },
  {
   "cell_type": "code",
   "execution_count": 29,
   "metadata": {
    "_id": "B8E4F6A0F00B4C9489D9821F0FB5D86E",
    "collapsed": false,
    "id": "5C86B1F0716E4C3F805EB3B50CD9002A",
    "jupyter": {
     "outputs_hidden": false
    },
    "notebookId": "62e22ba6d9ad8bab8144ca38",
    "slideshow": {
     "slide_type": "slide"
    },
    "tags": []
   },
   "outputs": [],
   "source": [
    "# 图像路径\n",
    "fnF162009 = glob.glob('result/3. calibrated dataset/'+'*F162009*tif')[0]\n",
    "fnF182010 = glob.glob('result/2. clipped dataset/'+'*F182010*tif')[0]\n",
    "# 读取F162009的图像\n",
    "arrF162009 = readTiff(fnF162009)[0]\n",
    "# 把F162009数组展成一维数组\n",
    "arrF162009 = concat([arrF162009])\n",
    "# 读取F182010的图像\n",
    "arrF182010 = readTiff(fnF182010)[0]\n",
    "# 把F182010数组展成一维数组\n",
    "arrF182010 = concat([arrF182010])"
   ]
  },
  {
   "cell_type": "code",
   "execution_count": 30,
   "metadata": {
    "_id": "8002179D637447418753F1281F2AAA93",
    "collapsed": false,
    "id": "974566FF469241D3A492C6FB6A109192",
    "jupyter": {
     "outputs_hidden": false
    },
    "notebookId": "62e22ba6d9ad8bab8144ca38",
    "slideshow": {
     "slide_type": "slide"
    },
    "tags": []
   },
   "outputs": [
    {
     "name": "stderr",
     "output_type": "stream",
     "text": [
      "/opt/conda/lib/python3.7/site-packages/ipykernel_launcher.py:3: RankWarning: Polyfit may be poorly conditioned\n",
      "  This is separate from the ipykernel package so we can avoid doing imports until\n"
     ]
    },
    {
     "name": "stdout",
     "output_type": "stream",
     "text": [
      "parameters: [0.00711127 0.34203734 5.3320811 ]\n",
      "R2: 0.9080354273319244\n"
     ]
    },
    {
     "data": {
      "image/png": "[encoded data removed]",
      "text/plain": [
       "<Figure size 360x360 with 1 Axes>"
      ]
     },
     "metadata": {
      "needs_background": "light"
     },
     "output_type": "display_data"
    }
   ],
   "source": [
    "waitArr = arrF182010\n",
    "refArr = arrF162009\n",
    "paras,r_sq = fitParameter(waitArr,refArr,xlabel='F182010',ylabel='F162009')\n",
    "print('parameters: {0}'.format(paras))\n",
    "print('R2: {0}'.format(r_sq))\n",
    "del waitArr,refArr,arrF182010,arrF162009\n",
    "_ = gc.collect()"
   ]
  },
  {
   "cell_type": "markdown",
   "metadata": {
    "_id": "858C6B0E2B1345609AF523F514812E3B",
    "id": "7157D9C2550A4F9B8E43BB6B9575C381",
    "jupyter": {},
    "mdEditEnable": false,
    "notebookId": "62e22ba6d9ad8bab8144ca38",
    "slideshow": {
     "slide_type": "slide"
    },
    "tags": []
   },
   "source": [
    "#### 2.5.2. 校正"
   ]
  },
  {
   "cell_type": "markdown",
   "metadata": {
    "_id": "ADCD94C8932D4A8C8008EF6A130A8F7B",
    "id": "58CA7EC2C43841A7A3DDF64671C73934",
    "jupyter": {},
    "mdEditEnable": false,
    "notebookId": "62e22ba6d9ad8bab8144ca38",
    "slideshow": {
     "slide_type": "slide"
    },
    "tags": []
   },
   "source": [
    "校正F182010。"
   ]
  },
  {
   "cell_type": "code",
   "execution_count": 31,
   "metadata": {
    "_id": "ABCAA257C9F444E88E2D077C71BB4A7C",
    "collapsed": false,
    "id": "B54483DFE20B489693159AD3457FC8C1",
    "jupyter": {
     "outputs_hidden": false
    },
    "notebookId": "62e22ba6d9ad8bab8144ca38",
    "slideshow": {
     "slide_type": "slide"
    },
    "tags": []
   },
   "outputs": [
    {
     "name": "stdout",
     "output_type": "stream",
     "text": [
      "result/3. calibrated dataset/F182010.v4d_web.stable_lights.avg_vis.tif has been output\n"
     ]
    }
   ],
   "source": [
    "# 输出路径\n",
    "calibratedDir = 'result/3. calibrated dataset/'\n",
    "if not os.path.isdir(calibratedDir):\n",
    "    os.mkdir(calibratedDir)\n",
    "\n",
    "# 读取图像，对其进行定标\n",
    "fnF182010 = glob.glob('result/2. clipped dataset/' + '*F182010*tif')[0]\n",
    "arrF182010,proj,trans = readTiff(fnF182010)\n",
    "arrF182010 = calibrate(arrF182010,paras)\n",
    "# 将定标的F182010图像输出\n",
    "outFn = calibratedDir + os.path.basename(fnF182010)\n",
    "outTif(arrF182010,outFn,proj,trans)\n",
    "print('{0} has been output'.format(outFn))\n",
    "del arrF182010\n",
    "_ = gc.collect()"
   ]
  },
  {
   "cell_type": "markdown",
   "metadata": {
    "_id": "8E80989161C748DAABB96F934B23FB28",
    "id": "7122610615F24370855409AE5BB62F82",
    "jupyter": {},
    "mdEditEnable": false,
    "notebookId": "62e22ba6d9ad8bab8144ca38",
    "slideshow": {
     "slide_type": "slide"
    },
    "tags": []
   },
   "source": [
    "类似的，将18卫星其他年份的数据拷贝到** /3. calibrated dataset/ **下"
   ]
  },
  {
   "cell_type": "code",
   "execution_count": 32,
   "metadata": {
    "_id": "F2310C902AB449758E6335B273CFA0DC",
    "collapsed": false,
    "id": "10726F038E41457C81CF50EC4BB98637",
    "jupyter": {
     "outputs_hidden": false
    },
    "notebookId": "62e22ba6d9ad8bab8144ca38",
    "slideshow": {
     "slide_type": "slide"
    },
    "tags": []
   },
   "outputs": [
    {
     "name": "stderr",
     "output_type": "stream",
     "text": [
      "100%|██████████| 3/3 [00:01<00:00,  2.62it/s]\n"
     ]
    }
   ],
   "source": [
    "# 找到所有F18卫星的图像\n",
    "F18s =  glob.glob('result/2. clipped dataset/' + 'F182011*tif')+ \\\n",
    "        glob.glob('result/2. clipped dataset/' + 'F182012*tif')+ \\\n",
    "        glob.glob('result/2. clipped dataset/' + 'F182013*tif')\n",
    "F18s.sort()\n",
    "# 依次拷贝到/3. calibrated dataset/下面\n",
    "for f1nxxxx in tqdm(F18s):\n",
    "    shutil.copy(f1nxxxx,  'result/3. calibrated dataset/'+os.path.basename(f1nxxxx))"
   ]
  },
  {
   "cell_type": "markdown",
   "metadata": {
    "_id": "93DCA763A09840FA88CCDF7CFF4FC233",
    "id": "F509390C20A54ED98C817FB44584B0AA",
    "jupyter": {},
    "mdEditEnable": false,
    "notebookId": "62e22ba6d9ad8bab8144ca38",
    "slideshow": {
     "slide_type": "slide"
    },
    "tags": []
   },
   "source": [
    "可视化最终的定标效果。"
   ]
  },
  {
   "cell_type": "code",
   "execution_count": 33,
   "metadata": {
    "_id": "D2A8403F428E421D8C2C9DD488574633",
    "collapsed": false,
    "id": "6FD532D24E2B443AA64AE4105BFE90C6",
    "jupyter": {
     "outputs_hidden": false
    },
    "notebookId": "62e22ba6d9ad8bab8144ca38",
    "slideshow": {
     "slide_type": "slide"
    },
    "tags": []
   },
   "outputs": [],
   "source": [
    "# 统计F10、F12、F14、F15、F18卫星的定标以前的数据（位于/2. clipped dataset/下）的灯光总和\n",
    "dfSum_beforeCalibration = createDF()\n",
    "# 遍历每一张图，进行求和计算\n",
    "fnF10xxxx = glob.glob('result/2. clipped dataset/F10*tif')\n",
    "fnF12xxxx = glob.glob('result/2. clipped dataset/F12*tif')\n",
    "fnF14xxxx = glob.glob('result/2. clipped dataset/F14*tif')\n",
    "fnF15xxxx = glob.glob('result/2. clipped dataset/F15*tif')\n",
    "fnF16xxxx = glob.glob('result/2. clipped dataset/F16*tif')\n",
    "fnF18xxxx = glob.glob('result/2. clipped dataset/F18*tif')\n",
    "for fn in fnF10xxxx + fnF12xxxx + fnF14xxxx+ fnF15xxxx+ fnF16xxxx+ fnF18xxxx:\n",
    "    # 读取图像计算总和\n",
    "    arr = readTiff(fn)[0]\n",
    "    sumValue = sumNTL(arr)\n",
    "    # 保存到dataframe的相应位置\n",
    "    fnn = os.path.basename(fn)[0:3]\n",
    "    xxxx = int(os.path.basename(fn)[3:7])\n",
    "    dfSum_beforeCalibration.loc[xxxx,fnn] = sumValue\n",
    "    del arr\n",
    "    gc.collect()"
   ]
  },
  {
   "cell_type": "code",
   "execution_count": 34,
   "metadata": {
    "_id": "AD738FCE36EB44ED93F84E3426BE6750",
    "collapsed": false,
    "id": "0034D02C12674AB89F19DAE6BEDB332F",
    "jupyter": {
     "outputs_hidden": false
    },
    "notebookId": "62e22ba6d9ad8bab8144ca38",
    "slideshow": {
     "slide_type": "slide"
    },
    "tags": []
   },
   "outputs": [],
   "source": [
    "# 统计F10、F12、F14、F15、F16、F18卫星的定标以后的数据（位于/3. calibrated dataset/下）的灯光总和\n",
    "dfSum_afterCalibration = createDF()\n",
    "# 遍历每一张图，进行求和计算\n",
    "fnF10xxxx = glob.glob('result/3. calibrated dataset/F10*tif')\n",
    "fnF12xxxx = glob.glob('result/3. calibrated dataset/F12*tif')\n",
    "fnF14xxxx = glob.glob('result/3. calibrated dataset/F14*tif')\n",
    "fnF15xxxx = glob.glob('result/3. calibrated dataset/F15*tif')\n",
    "fnF16xxxx = glob.glob('result/3. calibrated dataset/F16*tif')\n",
    "fnF18xxxx = glob.glob('result/3. calibrated dataset/F18*tif')\n",
    "for fn in fnF10xxxx + fnF12xxxx + fnF14xxxx + fnF15xxxx+ fnF16xxxx+ fnF18xxxx:\n",
    "    # 读取图像计算总和\n",
    "    arr = readTiff(fn)[0]\n",
    "    sumValue = sumNTL(arr)\n",
    "    # 保存到dataframe的相应位置\n",
    "    fnn = os.path.basename(fn)[0:3]\n",
    "    xxxx = int(os.path.basename(fn)[3:7])\n",
    "    dfSum_afterCalibration.loc[xxxx,fnn] = sumValue\n",
    "    del arr\n",
    "    gc.collect()"
   ]
  },
  {
   "cell_type": "code",
   "execution_count": 35,
   "metadata": {
    "_id": "2C89140AF5554EA18713B2746C2BA3FC",
    "collapsed": false,
    "id": "EB61154942C5457382620FAEF6B329DB",
    "jupyter": {
     "outputs_hidden": false
    },
    "notebookId": "62e22ba6d9ad8bab8144ca38",
    "slideshow": {
     "slide_type": "slide"
    },
    "tags": []
   },
   "outputs": [
    {
     "data": {
      "text/plain": [
       "<AxesSubplot:title={'center':'sum of light values !AFTER! calibration'}>"
      ]
     },
     "execution_count": 35,
     "metadata": {},
     "output_type": "execute_result"
    },
    {
     "data": {
      "image/png": "[encoded data removed]",
      "text/plain": [
       "<Figure size 720x216 with 1 Axes>"
      ]
     },
     "metadata": {
      "needs_background": "light"
     },
     "output_type": "display_data"
    },
    {
     "data": {
      "image/png": "[encoded data removed]",
      "text/plain": [
       "<Figure size 720x216 with 1 Axes>"
      ]
     },
     "metadata": {
      "needs_background": "light"
     },
     "output_type": "display_data"
    }
   ],
   "source": [
    "dfSum_beforeCalibration.plot(kind='line',figsize=[10,3],title='sum of light values !BEFORE! calibration')\n",
    "dfSum_afterCalibration.plot(kind='line',figsize=[10,3],title='sum of light values !AFTER! calibration')"
   ]
  },
  {
   "cell_type": "markdown",
   "metadata": {
    "_id": "C6953CFA41394B5280C2FFB05E9C76A8",
    "id": "01B9769A35F34D3D96DC5DAC4D74E398",
    "jupyter": {},
    "mdEditEnable": false,
    "notebookId": "62e22ba6d9ad8bab8144ca38",
    "slideshow": {
     "slide_type": "slide"
    },
    "tags": []
   },
   "source": [
    "最终，我们完成了所有年份的灯光数据校正。如上图所示，定标之后，从1992年到2013年，灯光总和持续增长，相比之前，连续性明显提升。"
   ]
  },
  {
   "cell_type": "markdown",
   "metadata": {
    "_id": "D9B4B153EBDF47018BAB80B051D96633",
    "id": "66B49734F1994A568817665FE80B669F",
    "jupyter": {},
    "mdEditEnable": false,
    "notebookId": "62e22ba6d9ad8bab8144ca38",
    "slideshow": {
     "slide_type": "slide"
    },
    "tags": []
   },
   "source": [
    "## 3. 制作城市发展轨迹图"
   ]
  },
  {
   "cell_type": "markdown",
   "metadata": {
    "_id": "58CB3F47A6024501895092188F97FCE5",
    "id": "04D78D45A0504D5DB73E52DF2F7C4586",
    "jupyter": {},
    "mdEditEnable": false,
    "notebookId": "62e22ba6d9ad8bab8144ca38",
    "slideshow": {
     "slide_type": "slide"
    },
    "tags": []
   },
   "source": [
    "灯光数据能够刻画城市的范围。定标的灯光数据有很好的年际连续性，因此可以通过定标的灯光数据展现城市发展的轨迹。本节，我们通过定标的灯光数据，制作北京、上海、广州及其周边区域的城市发展轨迹图。这三个城市及其周边区域的坐标如 **Figure 6** 所示。\n",
    "\n",
    "![Image Name](./pic/rfq0v32y7s.png)\n"
   ]
  },
  {
   "cell_type": "markdown",
   "metadata": {
    "_id": "48FF41EF4AA344EE9CF382EE1A341363",
    "id": "8A7AA73F001C4F0B83A097B542B1D67D",
    "jupyter": {},
    "mdEditEnable": false,
    "notebookId": "62e22ba6d9ad8bab8144ca38",
    "slideshow": {
     "slide_type": "slide"
    },
    "tags": []
   },
   "source": [
    "### 3.1. 将每个城市及其周边区域的每年图像导出成png格式文件"
   ]
  },
  {
   "cell_type": "code",
   "execution_count": 36,
   "metadata": {
    "_id": "0C401F94CFF64A5D82127C49046C9776",
    "collapsed": false,
    "id": "1131F18D9C8C48C39FAACF477226ECBD",
    "jupyter": {
     "outputs_hidden": false
    },
    "notebookId": "62e22ba6d9ad8bab8144ca38",
    "slideshow": {
     "slide_type": "slide"
    },
    "tags": []
   },
   "outputs": [],
   "source": [
    "_ = gc.collect()"
   ]
  },
  {
   "cell_type": "code",
   "execution_count": 37,
   "metadata": {
    "_id": "0AC0B5EA0AE04EA181F6A312E1EF711F",
    "collapsed": false,
    "id": "1A04EC7DF1154B87B0F5BEA55CE34CB2",
    "jupyter": {
     "outputs_hidden": false
    },
    "notebookId": "62e22ba6d9ad8bab8144ca38",
    "slideshow": {
     "slide_type": "slide"
    },
    "tags": []
   },
   "outputs": [],
   "source": [
    "# 选择以下数据制作动态图\n",
    "fnnxxxxs = ['F101992','F101993','F101994',\n",
    "            'F121995','F121996','F121997','F121998',\n",
    "            'F141999','F142000','F142001','F142002',\n",
    "            'F152003','F152004','F152005','F152006',\n",
    "            'F162007','F162008','F162009',\n",
    "            'F182010','F182011','F182012','F182013']"
   ]
  },
  {
   "cell_type": "markdown",
   "metadata": {
    "_id": "F02F7FD1717A4AF8885258C7AE4239F0",
    "id": "64AE5315DBB5448B8AD50627CE12AB5D",
    "jupyter": {},
    "mdEditEnable": false,
    "notebookId": "62e22ba6d9ad8bab8144ca38",
    "slideshow": {
     "slide_type": "slide"
    },
    "tags": []
   },
   "source": [
    "首先，我们要生成三个城市及其周边区域的每年图像，并保存成png格式。"
   ]
  },
  {
   "cell_type": "code",
   "execution_count": 38,
   "metadata": {
    "_id": "6F03D3B6DEC648C983FEFA1C7EEF6CD0",
    "collapsed": false,
    "id": "28110FCAB3674769926718F20BB7F02D",
    "jupyter": {
     "outputs_hidden": false
    },
    "notebookId": "62e22ba6d9ad8bab8144ca38",
    "slideshow": {
     "slide_type": "slide"
    },
    "tags": []
   },
   "outputs": [],
   "source": [
    "# 定义函数：创建每年的png图片\n",
    "def createPNG(arr,outFn):\n",
    "    fig = plt.figure(figsize=(20,20))\n",
    "    plt.imshow(arr,vmin=0, vmax=63)\n",
    "    plt.savefig(outFn)\n",
    "    plt.close(fig)\n",
    "    del fig\n",
    "    _ = gc.collect()"
   ]
  },
  {
   "cell_type": "code",
   "execution_count": 40,
   "metadata": {
    "_id": "3852BD88B4C74C3B8BE22DFECDD40E8E",
    "collapsed": false,
    "id": "89DE93ADB5714C288D7F5F134D94C6FE",
    "jupyter": {
     "outputs_hidden": false
    },
    "notebookId": "62e22ba6d9ad8bab8144ca38",
    "slideshow": {
     "slide_type": "slide"
    },
    "tags": []
   },
   "outputs": [
    {
     "name": "stderr",
     "output_type": "stream",
     "text": [
      "100%|██████████| 22/22 [00:13<00:00,  1.60it/s]\n"
     ]
    }
   ],
   "source": [
    "# 创建路径\n",
    "outDir = \"result/4. gif/\"\n",
    "if not os.path.isdir(outDir):\n",
    "    os.mkdir(outDir)\n",
    "\n",
    "# 定义城市及其周边区域的坐标(完成基础作业只需要改变下面的注释内容即可)\n",
    "cities_coords = {'Shanghai':[(2757,2012),(2919,2190)]}\n",
    "#cities_coords = {'Beijing':[(1760,1412),(1840,1576)]}\n",
    "#cities_coords = {'Guangzhou':[(3723,1033),(3943,1269)]}\n",
    "\n",
    "# 遍历每个城市及其周边区域，输出每年的图像\n",
    "for city,coord in cities_coords.items():\n",
    "    # 遍历定标的每一年的图像\n",
    "    for fnnxxxx in tqdm(fnnxxxxs):\n",
    "        # 读取数据\n",
    "        fullname_fnnxxxx = glob.glob('result/3. calibrated dataset/'+'*'+fnnxxxx+'*tif')[0]\n",
    "        arr,proj,trans = readTiff(fullname_fnnxxxx)\n",
    "        # 裁剪图像\n",
    "        subArr,subProj,subTrans = clipImg(arr,proj,trans,coord[0],coord[1])\n",
    "        del arr\n",
    "        _ = gc.collect()\n",
    "        # 输出图像\n",
    "        sub_outDir = outDir + city + '/'\n",
    "        if not os.path.isdir(sub_outDir):\n",
    "            os.mkdir(sub_outDir)\n",
    "        createPNG(subArr,sub_outDir + os.path.basename(fnnxxxx))\n",
    "        del subArr\n",
    "        _ = gc.collect()"
   ]
  },
  {
   "cell_type": "markdown",
   "metadata": {
    "_id": "153CE6D3CE514BF2BBE16E5CA35308B1",
    "id": "A5066AC5F332439E86D21110BF8D3741",
    "jupyter": {},
    "mdEditEnable": false,
    "notebookId": "62e22ba6d9ad8bab8144ca38",
    "slideshow": {
     "slide_type": "slide"
    },
    "tags": []
   },
   "source": [
    "### 3.2. 制作GIF图"
   ]
  },
  {
   "cell_type": "code",
   "execution_count": 41,
   "metadata": {
    "_id": "759C725EC0AA46938C498AA7B474557C",
    "collapsed": false,
    "id": "4FD612001ADE40BB88DFD1EA3ABD4350",
    "jupyter": {
     "outputs_hidden": false
    },
    "notebookId": "62e22ba6d9ad8bab8144ca38",
    "slideshow": {
     "slide_type": "slide"
    },
    "tags": []
   },
   "outputs": [],
   "source": [
    "# 定义函数：根据每年的png图片，创建gif图片\n",
    "def create_gif(dirCity, gif_name):\n",
    "    image_list = glob.glob(dirCity+'*png')\n",
    "    image_list.sort()\n",
    "    #\n",
    "    frames = []\n",
    "    for image_name in image_list:\n",
    "        frames.append(imageio.imread(image_name))\n",
    "    imageio.mimsave(gif_name, frames, 'GIF', duration = 0.2)\n",
    "    return"
   ]
  },
  {
   "cell_type": "code",
   "execution_count": 42,
   "metadata": {
    "_id": "C3586B7C3B8D4B48A8C836FB3A39FE76",
    "collapsed": false,
    "id": "63955C6013C3499B9F9AA210862591FB",
    "jupyter": {
     "outputs_hidden": false
    },
    "notebookId": "62e22ba6d9ad8bab8144ca38",
    "slideshow": {
     "slide_type": "slide"
    },
    "tags": []
   },
   "outputs": [
    {
     "name": "stderr",
     "output_type": "stream",
     "text": [
      "/opt/conda/lib/python3.7/site-packages/ipykernel_launcher.py:8: DeprecationWarning: Starting with ImageIO v3 the behavior of this function will switch to that of iio.v3.imread. To keep the current behavior (and make this warning dissapear) use `import imageio.v2 as imageio` or call `imageio.v2.imread` directly.\n",
      "  \n"
     ]
    }
   ],
   "source": [
    "# 为每个城市创建gif图片\n",
    "for city in ['Shanghai']:\n",
    "    dir_city = 'result/4. gif/' + city + '/'\n",
    "    gif_name = 'result/4. gif/' + city + '.gif'\n",
    "    create_gif(dir_city, gif_name)"
   ]
  },
  {
   "cell_type": "markdown",
   "metadata": {
    "id": "EDA73CECD0D24262838634F6A62A7DCD",
    "jupyter": {},
    "mdEditEnable": false,
    "notebookId": "62e22ba6d9ad8bab8144ca38",
    "slideshow": {
     "slide_type": "slide"
    },
    "tags": []
   },
   "source": [
    "此时，在 /home/mw/work/4. gif 下面，已经产生了相应的城市发展gif动图，你可以右键该文件，点击下载，保存到自己的电脑上。"
   ]
  },
  {
   "cell_type": "code",
   "execution_count": null,
   "metadata": {
    "collapsed": false,
    "id": "A0C76C0FA9C7418FB047F15761ABACE4",
    "jupyter": {
     "outputs_hidden": false
    },
    "notebookId": "62e22ba6d9ad8bab8144ca38",
    "scrolled": true,
    "slideshow": {
     "slide_type": "slide"
    },
    "tags": []
   },
   "outputs": [],
   "source": [
    "from IPython.display import Image\n",
    "Image(open('result/4. gif/Shanghai.gif','rb').read())"
   ]
  }
 ],
 "metadata": {
  "kernelspec": {
   "display_name": "Python 3 (ipykernel)",
   "language": "python",
   "name": "python3"
  },
  "language_info": {
   "codemirror_mode": {
    "name": "ipython",
    "version": 3
   },
   "file_extension": ".py",
   "mimetype": "text/x-python",
   "name": "python",
   "nbconvert_exporter": "python",
   "pygments_lexer": "ipython3",
   "version": "3.7.11"
  }
 },
 "nbformat": 4,
 "nbformat_minor": 4
}
