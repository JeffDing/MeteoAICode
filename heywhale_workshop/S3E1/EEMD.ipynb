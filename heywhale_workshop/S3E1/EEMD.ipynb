{
 "cells": [
  {
   "cell_type": "markdown",
   "metadata": {
    "id": "82F53C45AE0E44F7831F40234656DD47",
    "jupyter": {},
    "mdEditEnable": false,
    "slideshow": {
     "slide_type": "slide"
    },
    "tags": []
   },
   "source": [
    "# SST数据的EEMD分解\n",
    "得到全球平均的SST时间序列之后，我们先不直接拿来做订正，因为原始时间序列长度是百年尺度的非线性非平稳序列，本身会包含多种时间尺度（如季节、年、十年、几十年等）的信息，直接订正效果未必好。如果将原始时间序列分解成多种时间尺度的序列，就相当于得到多种更为丰富的时间序列信息，同时有了不同时间尺度的物理约束。\n",
    "\n",
    "基于上述的想法，我们采用[EEMD（Ensemble Empirical Mode Decomposition）](https://blog.csdn.net/liu_xiao_cheng/article/details/83897034)方法对原始时间序列来做，EEMD能将原始数据分解成多个从高频到低频的序列，也称本征模函数IMF（Intrinsic Mode Function），分解后的IMF加和也能以可忽略的误差范围接近原始序列。我们可以按照不同时间尺度对IMF组合，将各个组合时间序列输入到机器学习模型里做订正，最后将订正后的组合加起来得到最终的订正时间序列，这样比原始序列直接订正会更精确，且有较清楚的物理约束。\n",
    "\n",
    "所以，这一章，我们的目的很明确，就是定义EEMD函数，然后调用函数去分解观测和模式数据。\n",
    "\n",
    "**大家要特别注意这个notebook下使用的环境。 我们要使用的镜像为octave 测试镜像-song-v1，由于python3中的eemd分解时间序列暂时存在残差较大的问题，所以这里Kernel类型我们选择Octave（语法基本与Matlab一致），使用前人已经建立成熟的eemd分解代码。因为在Octave下运行eemd函数的速度普遍比matlab慢得多，集合数稍一增加，计算用时将会变长很多（大概2-3分钟），所以计算资源这里大家可以选择2核8G CPU资源，如希望算的快推荐大家选择4核CPU资源。**\n",
    "\n",
    "\n",
    "**这里严格说还是属于海表面温度数据处理的部分，但是由于环境不同，所以我们单独运行。**"
   ]
  },
  {
   "cell_type": "markdown",
   "metadata": {
    "id": "C6DDCC5852954FD4B0681EF676F7680F",
    "jupyter": {},
    "mdEditEnable": false,
    "notebookId": "62dd4ef13915ed2e06c60a35",
    "slideshow": {
     "slide_type": "slide"
    },
    "tags": []
   },
   "source": [
    "## 3.1 读取数据\n"
   ]
  },
  {
   "cell_type": "code",
   "execution_count": null,
   "metadata": {
    "collapsed": false,
    "id": "9F05A8161F354A6C838A2753F34BC217",
    "jupyter": {
     "outputs_hidden": false
    },
    "slideshow": {
     "slide_type": "slide"
    },
    "tags": []
   },
   "outputs": [],
   "source": [
    "Path_Data = './dataset'\n",
    "% 读取结构体数组，这里用到fullfile函数，作用是利用文件各部分信息创建并合成完整文件名。\n",
    "SST_ERSST_AreaMean = load(fullfile(Path_Data, 'SST_ERSST_AreaMean.mat') ); % 185401-201412\n",
    "SST_Historical_AreaMean = load( fullfile(Path_Data, 'SST_Historical_AreaMean.mat') );% 185401-201412\n",
    "SST_SSP126_AreaMean = load( fullfile(Path_Data, 'SST_SSP126_AreaMean.mat') );% 201501-210012\n",
    "SST_SSP245_AreaMean = load( fullfile(Path_Data, 'SST_SSP245_AreaMean.mat') );% 201501-210012\n",
    "SST_SSP585_AreaMean = load( fullfile(Path_Data, 'SST_SSP585_AreaMean.mat') );% 201501-210012\n",
    "% 读取结构体中的数据，包括全球平均SST的观测数据、模式历史数据和未来预估数据\n",
    "SST_ERSST_AreaMean = SST_ERSST_AreaMean.SST_ERSST_AreaMean;\n",
    "SST_Historical_AreaMean = SST_Historical_AreaMean.SST_Historical_AreaMean;\n",
    "SST_SSP126_AreaMean = SST_SSP126_AreaMean.SST_SSP126_AreaMean;\n",
    "SST_SSP245_AreaMean = SST_SSP245_AreaMean.SST_SSP245_AreaMean;\n",
    "SST_SSP585_AreaMean = SST_SSP585_AreaMean.SST_SSP585_AreaMean;\n",
    "% 数据分解选取的时间长度选择86年，与未来情景的时间长度相同，也能保证历史时期数据和未来情景预估数据在分解后的时间分量数目相同。\n",
    "Num_Year = 86; % 192901-201412\n",
    "Num_Sample_SST = Num_Year*12; \n",
    "Index_192901 = (1929-1854)*12+1 % 1929年1月在数组的位置\n",
    "SST_ERSST_AreaMean = SST_ERSST_AreaMean(Index_192901:end); % 取出时间192901-201412的数据\n",
    "SST_Historical_AreaMean = SST_Historical_AreaMean( Index_192901:end); % 192901-201412"
   ]
  },
  {
   "cell_type": "markdown",
   "metadata": {
    "id": "861CEA225A4A475DB3910AF336BACF6F",
    "jupyter": {},
    "mdEditEnable": false,
    "slideshow": {
     "slide_type": "slide"
    },
    "tags": []
   },
   "source": [
    "## 3.2 定义EEMD函数\n",
    "这里我们需要定义两个用于EEMD数据分解的函数，一个是求极值的函数”extrema“，另一个是主函数—“eemd”函数。\n",
    "大家在调用函数的时候只需要输入两个参数和待分解的变量，里面的细节感兴趣可以自行学习。"
   ]
  },
  {
   "cell_type": "markdown",
   "metadata": {
    "id": "BFE9B364FBFC4FAD8AAC12E85F2BFB1B",
    "jupyter": {},
    "mdEditEnable": false,
    "notebookId": "62dd4ef13915ed2e06c60a35",
    "slideshow": {
     "slide_type": "slide"
    },
    "tags": []
   },
   "source": [
    "### 3.2.1 定义extrema函数\n",
    "extrema函数定义好后在主函数eemd中被调用。\n",
    "\n",
    "**注：第一行的%%file extrema.m 千万不要动\n",
    "**"
   ]
  },
  {
   "cell_type": "code",
   "execution_count": null,
   "metadata": {
    "collapsed": false,
    "id": "4E19CE5980B549D28B8874A51553B8EB",
    "jupyter": {
     "outputs_hidden": false
    },
    "slideshow": {
     "slide_type": "slide"
    },
    "tags": []
   },
   "outputs": [],
   "source": [
    "%%file extrema.m\n",
    "function [spmax, spmin, flag]= extrema(in_data)\n",
    "    % 该子函数可以找到序列的极大值及其位置，极小值及其位置，然后用三次样条函数来形成包络。\n",
    "    % 函数：function [spmax, spmin, flag]= extrema(in_data)\n",
    "    % 输入:\n",
    "    %       in_data: 输入数据, 被研究的时间序列。\n",
    "    % 输出：\n",
    "    %       spmax: 极大值的位置（第1列）及其对应的值（第2列）。\n",
    "    %       spmin: 极大值的位置（第1列）及其对应的值（第2列）。\n",
    "    %\n",
    "    % 注意事项:\n",
    "    %       EMD使用三次样条曲线作为数据的最大和最小包络，除寻找样条曲线外，还要注意端点。\n",
    "    %\n",
    "    % 参考：\n",
    "    % 代码编者：吴召华 \n",
    "    % 标注：S.C.Su\n",
    "    % 翻译：匡志远\n",
    "    % 代码中有两段独立的循环。\n",
    "    % part1: 找到最大值及其位置，处理起止点。\n",
    "    % part2: 找到最小值及其位置，处理起止点。\n",
    "    %\n",
    "    % 在eemd中调用该函数。\n",
    " \n",
    "    flag=1;\n",
    "    dsize=length(in_data);\n",
    "    %part1: 找到最大值及其位置，处理起止点。\n",
    "    % 起点\n",
    "    spmax(1,1) = 1;\n",
    "    spmax(1,2) = in_data(1);\n",
    "    jj=2;\n",
    "    kk=2;\n",
    "    while jj<dsize,\n",
    "        if ( in_data(jj-1)<=in_data(jj) && in_data(jj)>=in_data(jj+1) )  % && is in octave; & is in matlab\n",
    "            spmax(kk,1) = jj;\n",
    "            spmax(kk,2) = in_data (jj);\n",
    "            kk = kk+1;\n",
    "        end\n",
    "        jj=jj+1;\n",
    "    end\n",
    "    %终点\n",
    "    spmax(kk,1)=dsize;\n",
    "    spmax(kk,2)=in_data(dsize);\n",
    "    \n",
    "    if kk>=4\n",
    "        slope1=(spmax(2,2)-spmax(3,2))/(spmax(2,1)-spmax(3,1));\n",
    "        tmp1=slope1*(spmax(1,1)-spmax(2,1))+spmax(2,2);\n",
    "        if tmp1>spmax(1,2)\n",
    "            spmax(1,2)=tmp1;\n",
    "        end\n",
    " \n",
    "        slope2=(spmax(kk-1,2)-spmax(kk-2,2))/(spmax(kk-1,1)-spmax(kk-2,1));\n",
    "        tmp2=slope2*(spmax(kk,1)-spmax(kk-1,1))+spmax(kk-1,2);\n",
    "        if tmp2>spmax(kk,2)\n",
    "            spmax(kk,2)=tmp2;\n",
    "        end\n",
    "    else\n",
    "        flag=-1;\n",
    "    end\n",
    " \n",
    "    msize=size(in_data);\n",
    "    dsize=max(msize);\n",
    "    xsize=dsize/3;\n",
    "    xsize2=2*xsize;\n",
    " \n",
    "    %part2: 找到最小值及其位置，处理起止点。.\n",
    "    spmin(1,1) = 1;\n",
    "    spmin(1,2) = in_data(1);\n",
    "    jj=2;\n",
    "    kk=2;\n",
    "    while jj<dsize,\n",
    "        if ( in_data(jj-1)>=in_data(jj) && in_data(jj)<=in_data(jj+1))  % && is in octave; & is in matlab.\n",
    "            spmin(kk,1) = jj;\n",
    "            spmin(kk,2) = in_data (jj);\n",
    "            kk = kk+1;\n",
    "        end\n",
    "        jj=jj+1;\n",
    "    end\n",
    "    spmin(kk,1)=dsize;\n",
    "    spmin(kk,2)=in_data(dsize);\n",
    " \n",
    "    if kk>=4\n",
    "        slope1=(spmin(2,2)-spmin(3,2))/(spmin(2,1)-spmin(3,1));\n",
    "        tmp1=slope1*(spmin(1,1)-spmin(2,1))+spmin(2,2);\n",
    "        if tmp1<spmin(1,2)\n",
    "            spmin(1,2)=tmp1;\n",
    "        end\n",
    " \n",
    "        slope2=(spmin(kk-1,2)-spmin(kk-2,2))/(spmin(kk-1,1)-spmin(kk-2,1));\n",
    "        tmp2=slope2*(spmin(kk,1)-spmin(kk-1,1))+spmin(kk-1,2);\n",
    "        if tmp2<spmin(kk,2)\n",
    "            spmin(kk,2)=tmp2;\n",
    "        end\n",
    "    else\n",
    "        flag=-1;\n",
    "    end\n",
    " \n",
    "    flag=1;\n",
    " \n",
    "end"
   ]
  },
  {
   "cell_type": "markdown",
   "metadata": {
    "id": "C5ABEA75459244798BF5365AFC7B1E09",
    "jupyter": {},
    "mdEditEnable": false,
    "slideshow": {
     "slide_type": "slide"
    },
    "tags": []
   },
   "source": [
    "### 3.2.2 定义eemd函数\n",
    "定义完extrema函数之后，接下来我们定义主函数eemd，后面我们对SST数据分解，只需要调用这个函数。"
   ]
  },
  {
   "cell_type": "code",
   "execution_count": null,
   "metadata": {
    "collapsed": false,
    "id": "5668FE0BCD3F43B08471FA80CD7A39B2",
    "jupyter": {
     "outputs_hidden": false
    },
    "notebookId": "62dd4ef13915ed2e06c60a35",
    "slideshow": {
     "slide_type": "slide"
    },
    "tags": []
   },
   "outputs": [],
   "source": [
    "%%file eemd.m\n",
    "function allmode=eemd(Y,Nstd,NE)\n",
    "    % 该函数用于EMD/EEMD\n",
    "    % 函数：function allmode=eemd(Y,Nstd,NE)\n",
    "    % 输入:\n",
    "    %       Y:输入数据，一维\n",
    "    %       Nstd: 加入噪声的标准差与输入数据标准差的比值，一般在0-0.2之间。\n",
    "    %       NE: EEMD使用的集合数，常取50，100，200等值。\n",
    "    % 输出：\n",
    "    %       输出 N*(m+1)的数组, N是输入数据Y的长度，m=fix(log2(N))-1，\n",
    "    %       第一列是原始数据，第2列，3列，。。。，m列是从高频到低频的IMF, 第(m+1)列是残差项，也是趋势项。\n",
    "    %\n",
    "    % 注意事项:\n",
    "    %       Nstd = 0,NE = 1时，EEMD变为EMD。\n",
    "    %       筛选次数为10次，停止准者不能更改。\n",
    "    %\n",
    "    % 参考： Wu, Z., and N. E Huang (2008), Ensemble Empirical Mode Decomposition: a noise-assisted data analysis method. \n",
    "    %       Advances in Adaptive Data Analysis. Vol.1, No.1. 1-41.\n",
    "    % 代码编者：吴召华 \n",
    "    % 标注：S.C.Su\n",
    "    % 翻译：匡志远\n",
    "    % 代码中有三个循环。\n",
    "    % 1.读取数据，找出标准差std,输入数据除std\n",
    "    % 2.设TNM为IMF的总数，TNM2为IMF总数与原始数据、剩余残差的条目，即TNM2 = TNM + 2，将0分配给TNM2数组\n",
    "    %【3.-------------------------------------循环1：EEMD，进行NE次循环开始-------------------------------------\n",
    "    %     4.添加噪声\n",
    "    %     5.筛选前给定初始值\n",
    "    %    【6.---------------------------循环2：开始计算IMF,寻找IMF循环开始---------------------------\n",
    "    %         【7.------------------循环3：筛选10次得到IMF,循环开始及结束------------------】\n",
    "    %          8.经过10次筛选，得到IMF\n",
    "    %          9.从原始数据中减去IMF,对剩余部分循环找到下一个IMF\n",
    "    %     6.---------------------------在得到所有IMF之后，循环2结束---------------------------】\n",
    "    %     9.得到所有IMF,最后得到残差，即趋势项\n",
    "    % 3.-------------------------------------NE次EEMD分解结果求和完毕，循环1结束-------------------------------------】\n",
    "    % 10.求和结果减去除NE,再乘上标准差。\n",
    "    %\n",
    "    % 该函数常用于1维时间序列的EEMD分解，且停止准则固定。\n",
    "\n",
    "    %part1.读取数据，找出标准差std,输入数据除std\n",
    "    xsize=length(Y);\n",
    "    dd=1:1:xsize;\n",
    "    Ystd=std(Y);\n",
    "    Y=Y/Ystd;\n",
    "\n",
    "    %part2.设TNM为IMF的总数，TNM2为IMF总数与原始数据、剩余残差的条目，即TNM2 = TNM + 2，将0分配给TNM2数组\n",
    "    TNM=fix(log2(xsize))-1;\n",
    "    TNM2=TNM+2;\n",
    "    for kk=1:1:TNM2, \n",
    "        for ii=1:1:xsize,\n",
    "            allmode(ii,kk)=0.0;\n",
    "        end\n",
    "    end\n",
    "\n",
    "    %part3.循环1：EEMD，进行NE次循环开始\n",
    "    for iii=1:1:NE\n",
    "        if mod(iii,10)== 0\n",
    "             disp(['Now ensemble number is : ', num2str(iii)])\n",
    "\n",
    "        end\n",
    "        %part4. 添加噪声\n",
    "        for i=1:xsize\n",
    "            temp=randn(1,1)*Nstd;\n",
    "            X1(i)=Y(i)+temp;\n",
    "        end\n",
    "\n",
    "        %part4.把原始值放在第一列  \n",
    "        for jj=1:1:xsize\n",
    "            mode(jj,1) = Y(jj);\n",
    "        end\n",
    "    \n",
    "        %part5.筛选前给定初始值\n",
    "        xorigin = X1;\n",
    "        xend = xorigin;\n",
    "        \n",
    "        %part6.循环2：开始计算IMF,寻找IMF循环开始\n",
    "        nmode = 1;\n",
    "        while nmode <= TNM\n",
    "            xstart = xend; \n",
    "                        \n",
    "            iter = 1;      \n",
    "    \n",
    "            %part7.循环3：筛选10次得到IMF,循环开始\n",
    "            while iter<=10\n",
    "                [spmax, spmin, flag]=extrema(xstart);  %调用子函数extrema \n",
    "                %用spline函数拟合包络\n",
    "                upper= spline(spmax(:,1),spmax(:,2),dd); %上界 \n",
    "                lower= spline(spmin(:,1),spmin(:,2),dd); %下界\n",
    "                mean_ul = (upper + lower)/2; %上界和下界的平均值 \n",
    "                xstart = xstart - mean_ul; % 从上一次初始值减掉平均值\n",
    "                iter = iter +1;\n",
    "            end\n",
    "            %part7.循环3：筛选10次得到IMF,循环结束   \n",
    "            \n",
    "            %part8.经过10次筛选，得到IMF,\n",
    "            xend = xend - xstart;\n",
    "            nmode=nmode+1;\n",
    "            \n",
    "            %part9. 从原始数据中减去IMF,对剩余部分循环找到下一个IMF,储存IMF\n",
    "            for jj=1:1:xsize\n",
    "                mode(jj,nmode) = xstart(jj);\n",
    "            end\n",
    "\n",
    "        end\n",
    "        %part6.在得到所有IMF之后，循环2结束\n",
    "\n",
    "        %part 10.得到所有IMF之后就能得到残差项，将残差项放在mode的最后一列\n",
    "        for jj=1:1:xsize\n",
    "            mode(jj,nmode+1)=xend(jj);\n",
    "        end\n",
    "        % allmode 包含3部分：original；IMF; trend \n",
    "        allmode=allmode+mode;\n",
    "        \n",
    "    end\n",
    "    %part3.NE次EEMD分解结果求和完毕，循环1结束\n",
    "\n",
    "    %part10.求和结果减去除NE,再乘上标准差。\n",
    "    allmode=allmode/NE;\n",
    "    allmode=allmode*Ystd;\n",
    "\n",
    "end\n",
    "\n"
   ]
  },
  {
   "cell_type": "markdown",
   "metadata": {
    "id": "BD8961A5C3B645EF9D2C3F0FAAEEE961",
    "jupyter": {},
    "mdEditEnable": false,
    "notebookId": "62dd4ef13915ed2e06c60a35",
    "slideshow": {
     "slide_type": "slide"
    },
    "tags": []
   },
   "source": [
    "## 3.3 EEMD分解观测和模式SST\n",
    "定义好分解的函数，下一步我们就可以分解数据了。\n",
    "\n",
    "**大家要特别注意这里一个地方：调用eemd函数时前面不要加注释，但可以在后面加注释。这应该是在同一个notebook里面定义函数并调用时容易出错的点。**\n",
    "\n",
    "eemd分解除了输入原始时间序列，还需要输入两个参数，一个是加入噪声的标准差与输入数据标准差的比值，也就是Nstd，一般在0-0.2之间取值。另一个是 EEMD使用的集合数，也就是NE，常取50，100，200等值。\n",
    "这里，对观测和模式数据我们均设置相同的值，即Nstd取0.2，NE取100。\n"
   ]
  },
  {
   "cell_type": "markdown",
   "metadata": {
    "id": "D4AA00503A1C436ABAE66A22CF54D716",
    "jupyter": {},
    "mdEditEnable": false,
    "notebookId": "62dd4ef13915ed2e06c60a35",
    "slideshow": {
     "slide_type": "slide"
    },
    "tags": []
   },
   "source": [
    "### 3.3.1 分解观测SST"
   ]
  },
  {
   "cell_type": "code",
   "execution_count": null,
   "metadata": {
    "collapsed": false,
    "id": "86F5EFE75F4440CB89D34425899BA533",
    "jupyter": {
     "outputs_hidden": false
    },
    "notebookId": "62dd4ef13915ed2e06c60a35",
    "slideshow": {
     "slide_type": "slide"
    },
    "tags": []
   },
   "outputs": [],
   "source": [
    "% 设置两个参数\n",
    "Nstd = 0.2;\n",
    "NE = 100;\n",
    "% 开始对观测数据分解，并计时\n",
    "tic\n",
    "EEMD_ERSST = eemd( SST_ERSST_AreaMean, Nstd, NE ); % 得到第一列是原始序列，第二列到最后一列是分解的IMF分量\n",
    "toc  \n",
    "IMFs_ERSST = EEMD_ERSST(:, 2:end)';\n",
    "NIMFs_ERSST= size(IMFs_ERSST,1);\n",
    "Recons_IMFs_ERSST = sum(IMFs_ERSST, 1);\n",
    "Delta_IMFs_ERSST = SST_ERSST_AreaMean - Recons_IMFs_ERSST;\n",
    "min(Delta_IMFs_ERSST0), max(Delta_IMFs_ERSST) % 可以看看残差的最大值最小值\n",
    "% 画图，可以先不画，后面我们把数据保存好了再下一章python3环境下画。\n",
    "% t = 1:Num_Sample_SST;\n",
    "% hf = figure;\n",
    "% for n = 1:NIMFs_ERSST\n",
    "%   subplot(NIMFs_ERSST, 1, n);\n",
    "%    plot(t, IMFs_ERSST(n,:) );\n",
    "%    ylabel( ['IMF', num2str(n) ] );\n",
    "% end \n",
    "% xlabel( 'Time' );"
   ]
  },
  {
   "cell_type": "markdown",
   "metadata": {
    "id": "35B13E08BADD4BFA882BB4E9F262FABA",
    "jupyter": {},
    "mdEditEnable": false,
    "notebookId": "62dd4ef13915ed2e06c60a35",
    "slideshow": {
     "slide_type": "slide"
    },
    "tags": []
   },
   "source": [
    "### 3.3.2 分解模式的历史SST\n",
    "分解过程与观测数据类似，只需调用eemd函数。"
   ]
  },
  {
   "cell_type": "code",
   "execution_count": null,
   "metadata": {
    "collapsed": false,
    "id": "4CD502A85390497786836061DA8F4638",
    "jupyter": {
     "outputs_hidden": false
    },
    "notebookId": "62dd4ef13915ed2e06c60a35",
    "slideshow": {
     "slide_type": "slide"
    },
    "tags": []
   },
   "outputs": [],
   "source": [
    "Nstd = 0.2;\n",
    "NE = 100;\n",
    "tic\n",
    "EEMD_Historical = eemd( SST_Historical_AreaMean, Nstd, NE );\n",
    "toc\n",
    "IMFs_Historical = EEMD_Historical(:, 2:end)';\n",
    "NIMFs_Historical= size(IMFs_Historical,1);\n",
    "Recons_IMFs_Historical = sum(IMFs_Historical, 1);\n",
    "Delta_IMFs_Historical = SST_Historical_AreaMean - Recons_IMFs_Historical;\n"
   ]
  },
  {
   "cell_type": "markdown",
   "metadata": {
    "id": "A31E9183574A44C187C05B53C1F01362",
    "jupyter": {},
    "mdEditEnable": false,
    "notebookId": "62dd4ef13915ed2e06c60a35",
    "slideshow": {
     "slide_type": "slide"
    },
    "tags": []
   },
   "source": [
    "### 3.3.3 分解模式的未来预估SST\n",
    "同样地，分解过程与观测数据类似，只需调用eemd函数。"
   ]
  },
  {
   "cell_type": "markdown",
   "metadata": {
    "id": "D0E6606C99C54971AEBFCD4B427FB88C",
    "jupyter": {},
    "mdEditEnable": false,
    "notebookId": "62dd4ef13915ed2e06c60a35",
    "slideshow": {
     "slide_type": "slide"
    },
    "tags": []
   },
   "source": [
    "**SSP126**"
   ]
  },
  {
   "cell_type": "code",
   "execution_count": null,
   "metadata": {
    "collapsed": false,
    "id": "E04861909FA9412C8BF95D4AD6BFE803",
    "jupyter": {
     "outputs_hidden": false
    },
    "notebookId": "62dd4ef13915ed2e06c60a35",
    "slideshow": {
     "slide_type": "slide"
    },
    "tags": []
   },
   "outputs": [],
   "source": [
    "Nstd = 0.2;\n",
    "NE = 100;\n",
    "tic\n",
    "EEMD_SSP126 = eemd( SST_SSP126_AreaMean, Nstd, NE );\n",
    "toc\n",
    "IMFs_SSP126 = EEMD_SSP126(:, 2:end)';\n",
    "NIMFs_SSP126= size(IMFs_SSP126,1);\n",
    "Recons_IMFs_SSP126 = sum(IMFs_SSP126, 1);\n",
    "Delta_IMFs_SSP126 = SST_SSP126_AreaMean - Recons_IMFs_SSP126;\n"
   ]
  },
  {
   "cell_type": "markdown",
   "metadata": {
    "id": "C87A486548D24C8D8C620600D674006A",
    "jupyter": {},
    "mdEditEnable": false,
    "notebookId": "62dd4ef13915ed2e06c60a35",
    "slideshow": {
     "slide_type": "slide"
    },
    "tags": []
   },
   "source": [
    "**SSP245**"
   ]
  },
  {
   "cell_type": "code",
   "execution_count": null,
   "metadata": {
    "collapsed": false,
    "id": "06409EE76E0F463480EE7A40C0DBB957",
    "jupyter": {
     "outputs_hidden": false
    },
    "notebookId": "62dd4ef13915ed2e06c60a35",
    "slideshow": {
     "slide_type": "slide"
    },
    "tags": []
   },
   "outputs": [],
   "source": [
    "Nstd = 0.2;\n",
    "NE = 100;\n",
    "tic\n",
    "EEMD_SSP245 = eemd( SST_SSP245_AreaMean, Nstd, NE );\n",
    "toc\n",
    "IMFs_SSP245 = EEMD_SSP245(:, 2:end)';\n",
    "NIMFs_SSP245= size(IMFs_SSP245,1);\n",
    "Recons_IMFs_SSP245 = sum(IMFs_SSP245, 1);\n",
    "Delta_IMFs_SSP245 = SST_SSP245_AreaMean - Recons_IMFs_SSP245;\n"
   ]
  },
  {
   "cell_type": "markdown",
   "metadata": {
    "id": "68D672AD12CD4D7086FBE6A457544B77",
    "jupyter": {},
    "mdEditEnable": false,
    "notebookId": "62dd4ef13915ed2e06c60a35",
    "slideshow": {
     "slide_type": "slide"
    },
    "tags": []
   },
   "source": [
    "**SSP585**"
   ]
  },
  {
   "cell_type": "code",
   "execution_count": null,
   "metadata": {
    "collapsed": false,
    "id": "AC002CC8F9A14CF189069015CB83A76E",
    "jupyter": {
     "outputs_hidden": false
    },
    "notebookId": "62dd4ef13915ed2e06c60a35",
    "slideshow": {
     "slide_type": "slide"
    },
    "tags": []
   },
   "outputs": [],
   "source": [
    "Nstd = 0.2;\n",
    "NE = 100;\n",
    "tic\n",
    "EEMD_SSP585 = eemd( SST_SSP585_AreaMean, Nstd, NE );\n",
    "toc\n",
    "IMFs_SSP585 = EEMD_SSP585(:, 2:end)';\n",
    "NIMFs_SSP585= size(IMFs_SSP585,1);\n",
    "Recons_IMFs_SSP585 = sum(IMFs_SSP585, 1);\n",
    "Delta_IMFs_SSP585 = SST_SSP585_AreaMean - Recons_IMFs_SSP585;\n"
   ]
  },
  {
   "cell_type": "markdown",
   "metadata": {
    "id": "6C57A6CB5C8F4CB49BBD409582698028",
    "jupyter": {},
    "mdEditEnable": false,
    "notebookId": "62dd4ef13915ed2e06c60a35",
    "slideshow": {
     "slide_type": "slide"
    },
    "tags": []
   },
   "source": [
    "## 3.4 保存数据\n",
    "保存eemd分解的数据，留作后续机器学习订正使用。"
   ]
  },
  {
   "cell_type": "code",
   "execution_count": null,
   "metadata": {
    "collapsed": false,
    "id": "661D17C8449A4A0B8C376C20C1274F92",
    "jupyter": {
     "outputs_hidden": false
    },
    "notebookId": "62dd4ef13915ed2e06c60a35",
    "slideshow": {
     "slide_type": "slide"
    },
    "tags": []
   },
   "outputs": [],
   "source": [
    "% 设置一下保存路径\n",
    "Path_Pre = './SaveData/'\n",
    "Path_SaveData =  [Path_Pre , 'EEMD/']\n",
    "if ~exist(Path_SaveData)\n",
    "    mkdir(Path_SaveData)\n",
    "    disp( [Path_SaveData, ' successfully build!'] )\n",
    "else\n",
    "    disp( [Path_SaveData, ' has been existed!'] )\n",
    "end\n",
    "% 保存变量\n",
    "save( fullfile(Path_SaveData, 'IMFs_ERSST.mat'), 'IMFs_ERSST',  '-v7' ) \n",
    "save( fullfile(Path_SaveData, 'IMFs_Historical.mat'), 'IMFs_Historical',  '-v7' )\n",
    "save( fullfile(Path_SaveData, 'IMFs_SSP126.mat'), 'IMFs_SSP126',  '-v7' )\n",
    "save( fullfile(Path_SaveData, 'IMFs_SSP245.mat'), 'IMFs_SSP245',  '-v7' )\n",
    "save( fullfile(Path_SaveData, 'IMFs_SSP585.mat'), 'IMFs_SSP585',  '-v7' )"
   ]
  },
  {
   "cell_type": "markdown",
   "metadata": {
    "id": "A663381C03C14AF689BCA48F5E489247",
    "jupyter": {},
    "mdEditEnable": false,
    "notebookId": "62dd4ef13915ed2e06c60a35",
    "slideshow": {
     "slide_type": "slide"
    },
    "tags": []
   },
   "source": [
    "## 小结\n",
    "本章我们带领大家从头定义了用于做数据分解的eemd函数，然后对观测和模式SST数据做了分解，最后将数据保存。下一章，我们将基于分解后的数据做一个绘图展示，然后计算各个分量的时间尺度，再根据我们关心的时间尺度对各个分量进行组合，得到我们最终要输入机器学习模型中的订正时间序列对象。我们主要是想带领大家在python环境下运行代码，所以仅仅用Octave完成SST的eemd分解这一部分。\n"
   ]
  }
 ],
 "metadata": {
  "kernelspec": {
   "display_name": "Python 3",
   "language": "python",
   "name": "python3"
  },
  "language_info": {
   "codemirror_mode": {
    "name": "ipython",
    "version": 3
   },
   "file_extension": ".py",
   "mimetype": "text/x-python",
   "name": "python",
   "nbconvert_exporter": "python",
   "pygments_lexer": "ipython3",
   "version": "3.6.9"
  }
 },
 "nbformat": 4,
 "nbformat_minor": 4
}
